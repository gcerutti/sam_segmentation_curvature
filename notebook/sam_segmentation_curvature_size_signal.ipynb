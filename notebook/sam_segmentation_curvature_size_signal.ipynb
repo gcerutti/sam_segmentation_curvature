{
 "cells": [
  {
   "cell_type": "markdown",
   "metadata": {},
   "source": [
    "## SAM segmentation, meristem delineation, size and curvature estimation & signal quantification\n",
    "\n",
    "### Necessary imports"
   ]
  },
  {
   "cell_type": "code",
   "execution_count": null,
   "metadata": {},
   "outputs": [],
   "source": [
    "import os\n",
    "from time import time as current_time\n",
    "\n",
    "import numpy as np\n",
    "import scipy.ndimage as nd\n",
    "import pandas as pd\n",
    "import matplotlib.pyplot as plt\n",
    "\n",
    "import vtk\n",
    "\n",
    "from timagetk.components import SpatialImage, LabelledImage\n",
    "from timagetk.io import imread, imsave\n",
    "from timagetk.plugins import h_transform, region_labeling, segmentation\n",
    "from timagetk.plugins.resampling import isometric_resampling\n",
    "from timagetk.plugins import labels_post_processing\n",
    "\n",
    "from cellcomplex.utils.array_dict import array_dict\n",
    "\n",
    "from cellcomplex.property_topomesh.creation import triangle_topomesh, vertex_topomesh\n",
    "from cellcomplex.property_topomesh.analysis import compute_topomesh_property, compute_topomesh_vertex_property_from_faces, topomesh_property_median_filtering, topomesh_property_gaussian_filtering\n",
    "from cellcomplex.property_topomesh.optimization import property_topomesh_vertices_deformation\n",
    "from cellcomplex.property_topomesh.extraction import property_filtering_sub_topomesh, topomesh_connected_components\n",
    "from cellcomplex.property_topomesh.io import read_ply_property_topomesh, save_ply_property_topomesh\n",
    "\n",
    "from cellcomplex.property_topomesh.visualization.vtk_actor_topomesh import VtkActorTopomesh\n",
    "\n",
    "from tissue_nukem_3d.microscopy_images.read_microscopy_image import read_czi_image, read_tiff_image\n",
    "from tissue_nukem_3d.nuclei_mesh_tools import nuclei_image_surface_topomesh, up_facing_surface_topomesh\n",
    "\n",
    "from tissue_analysis.property_spatial_image import PropertySpatialImage\n",
    "\n",
    "from tissue_paredes.utils.tissue_image_tools import pseudo_gradient_norm\n",
    "\n",
    "from visu_core.matplotlib import glasbey\n",
    "from visu_core.vtk.display import vtk_display_notebook, vtk_save_screenshot_actors\n",
    "from visu_core.vtk.volume import vtk_image_volume\n",
    "from visu_core.vtk.actor import vtk_actor\n",
    "\n",
    "from visu_core.vtk.utils.image_tools import vtk_image_data_from_image, image_to_vtk_cell_polydatas\n",
    "from visu_core.vtk.utils.polydata_tools import vtk_combine_polydatas"
   ]
  },
  {
   "cell_type": "markdown",
   "metadata": {},
   "source": [
    "### Import locally defined tools"
   ]
  },
  {
   "cell_type": "code",
   "execution_count": null,
   "metadata": {},
   "outputs": [],
   "source": [
    "from utils.image_tools import labelled_image_projection\n",
    "from utils.property_image_tools import image_property_morphological_operation, property_image_to_dataframe"
   ]
  },
  {
   "cell_type": "markdown",
   "metadata": {},
   "source": [
    "### File path information"
   ]
  },
  {
   "cell_type": "code",
   "execution_count": null,
   "metadata": {},
   "outputs": [],
   "source": [
    " dirname = '/Users/gcerutti/Projects/RDP/LayerHeight_Marketa/test/'\n",
    "#dirname = '/home/carlos/Documents/WORK/Image analysis/20160625 MS-E3 CLV-DR5/LD/RAW'\n",
    "\n",
    "filename = 'E15_SAM02'\n",
    "#filename = 'CLV3-CH-DR5-3VE-MS-E3-LD-SAM3'\n",
    "#filename = 'CLV3-CH-DR5-3VE-MS-E3-LD-SAM5'"
   ]
  },
  {
   "cell_type": "markdown",
   "metadata": {},
   "source": [
    "### Algorithm parameters"
   ]
  },
  {
   "cell_type": "code",
   "execution_count": null,
   "metadata": {},
   "outputs": [],
   "source": [
    "# image parameters\n",
    "#channel_names = ['PI']\n",
    "channel_names = ['Signal','PI']\n",
    "#channel_names = ['CLV3','DR5','PI']\n",
    "membrane_channel = 'PI'\n",
    "#signal_channels = ['CLV3','DR5']\n",
    "signal_channels = ['Signal']\n",
    "microscope_orientation = 1\n",
    "\n",
    "# segmentation parameters\n",
    "recompute_segmentation = False\n",
    "gaussian_sigma = 0.75\n",
    "h_min = 200\n",
    "segmentation_gaussian_sigma = 0.5\n",
    "volume_threshold = 100000\n",
    "\n",
    "# SAM surface extraction parameters\n",
    "recompute_surface = False\n",
    "resampling_voxelsize = 1.\n",
    "gaussian_curvature_threshold = -2.5e-4\n",
    "min_curvature_threshold = -1e-3\n",
    "\n",
    "# Signal quantification parameters\n",
    "quantification_erosion_radius = 1.\n",
    "\n",
    "# Visualization parameters\n",
    "subsampling = 2\n",
    "figure_size = 8"
   ]
  },
  {
   "cell_type": "markdown",
   "metadata": {},
   "source": [
    "### Preparing folder architecture"
   ]
  },
  {
   "cell_type": "code",
   "execution_count": null,
   "metadata": {},
   "outputs": [],
   "source": [
    "if not os.path.exists(dirname + \"/\" + filename + \"/\"):\n",
    "    os.makedirs(dirname + \"/\" + filename + \"/\")"
   ]
  },
  {
   "cell_type": "markdown",
   "metadata": {},
   "source": [
    "### Reading the microscopy image"
   ]
  },
  {
   "cell_type": "code",
   "execution_count": null,
   "metadata": {},
   "outputs": [],
   "source": [
    "microscopy_filename = dirname + '/' + filename + '.czi'\n",
    "img_dict = read_czi_image(microscopy_filename, channel_names)\n",
    "if len(channel_names) == 1:\n",
    "    img_dict = {channel_names[0]:img_dict}"
   ]
  },
  {
   "cell_type": "code",
   "execution_count": null,
   "metadata": {
    "scrolled": false
   },
   "outputs": [],
   "source": [
    "actors = []\n",
    "\n",
    "image_data = vtk_image_data_from_image(img_dict[membrane_channel].get_array(), \n",
    "                                       voxelsize=img_dict[membrane_channel].voxelsize)\n",
    "volume = vtk_image_volume(image_data,colormap='gray')\n",
    "actors += [volume]\n",
    "\n",
    "figure_filename = dirname + '/' + filename + '/' + filename + '_membrane_image.png'\n",
    "vtk_save_screenshot_actors(actors, figure_filename, focal_point=(0,0,-microscope_orientation), view_up=(-microscope_orientation,0,0))\n",
    "vtk_display_notebook(actors)"
   ]
  },
  {
   "cell_type": "markdown",
   "metadata": {},
   "source": [
    "### Auto-seeded watershed segmentation"
   ]
  },
  {
   "cell_type": "code",
   "execution_count": null,
   "metadata": {},
   "outputs": [],
   "source": [
    "segmentation_filename = dirname + '/' + filename + '/' + filename + '_' + membrane_channel + '_seg.tif'\n",
    "\n",
    "if recompute_segmentation or not os.path.exists(segmentation_filename):\n",
    "    img = img_dict[membrane_channel]\n",
    "    voxelsize = np.array(img.voxelsize)\n",
    "\n",
    "    smooth_image = nd.gaussian_filter(img, sigma=gaussian_sigma / voxelsize).astype(img.dtype)\n",
    "    smooth_img = SpatialImage(smooth_image, voxelsize=voxelsize)\n",
    "\n",
    "    ext_img = h_transform(smooth_img, h=h_min, method='min')\n",
    "\n",
    "    seed_img = region_labeling(ext_img, low_threshold=1, high_threshold=h_min, method='connected_components')\n",
    "\n",
    "    seg_smooth_image = nd.gaussian_filter(img, sigma=segmentation_gaussian_sigma / voxelsize).astype(img.dtype)\n",
    "    seg_smooth_img = SpatialImage(seg_smooth_image, voxelsize=voxelsize)\n",
    "\n",
    "    seg_img = segmentation(seg_smooth_img, seed_img, control='first', method='seeded_watershed')\n",
    "    \n",
    "    seg_volumes = dict(zip(np.arange(seg_img.max()) + 1, \n",
    "                           nd.sum(np.prod(voxelsize) * np.ones_like(seg_img),\n",
    "                                  seg_img, \n",
    "                                  index = np.arange(seg_img.max())+1)))\n",
    "\n",
    "    labels_to_remove = np.array(list(seg_volumes.keys()))[np.array(list(seg_volumes.values())) > volume_threshold]\n",
    "    print(\"--> Removing too large labels :\",labels_to_remove)\n",
    "    for l in labels_to_remove:\n",
    "        seg_img[seg_img == l] = 1\n",
    "    \n",
    "    imsave(segmentation_filename, seg_img)\n",
    "else:\n",
    "    seg_img = read_tiff_image(segmentation_filename)\n",
    "    seg_img = LabelledImage(seg_img, no_label_id=0)\n"
   ]
  },
  {
   "cell_type": "code",
   "execution_count": null,
   "metadata": {},
   "outputs": [],
   "source": [
    "actors = []\n",
    "\n",
    "labels = [l for l in seg_img.labels() if l!=1]\n",
    "\n",
    "cell_polydatas = image_to_vtk_cell_polydatas(seg_img,\n",
    "                                             labels=labels, \n",
    "                                             subsampling=[int(np.round(0.8/v)) for v in seg_img.voxelsize], \n",
    "                                             smoothing=10)\n",
    "cell_polydata = vtk_combine_polydatas([cell_polydatas[l] for l in labels])\n",
    "cell_actor = vtk_actor(cell_polydata,colormap='glasbey',value_range=(0,255))\n",
    "actors += [cell_actor]\n",
    "\n",
    "figure_filename = dirname + '/' + filename + '/' + filename + '_segmented_cells.png'\n",
    "vtk_save_screenshot_actors(actors, figure_filename, focal_point=(0,0,-microscope_orientation), view_up=(-microscope_orientation,0,0))\n",
    "vtk_display_notebook(actors)"
   ]
  },
  {
   "cell_type": "markdown",
   "metadata": {},
   "source": [
    "### Surface extraction"
   ]
  },
  {
   "cell_type": "code",
   "execution_count": null,
   "metadata": {},
   "outputs": [],
   "source": [
    "binary_img = SpatialImage(nd.gaussian_filter(255*(seg_img>1),sigma=1./np.array(seg_img.voxelsize)).astype(np.uint8),voxelsize=seg_img.voxelsize)\n",
    "\n",
    "if resampling_voxelsize is not None:\n",
    "    binary_img = isometric_resampling(binary_img, method=resampling_voxelsize, option='linear')\n",
    "else:\n",
    "    resampling_voxelsize = np.array(binary_img.voxelsize)"
   ]
  },
  {
   "cell_type": "code",
   "execution_count": null,
   "metadata": {
    "scrolled": true
   },
   "outputs": [],
   "source": [
    "surface_filename = dirname + '/' + filename + '/' + filename + '_' + membrane_channel + '_surface.ply'\n",
    "\n",
    "curvature_properties = ['mean_curvature','gaussian_curvature','principal_curvature_min','principal_curvature_max']\n",
    "    \n",
    "if recompute_surface or not os.path.exists(surface_filename):\n",
    "    topomesh = nuclei_image_surface_topomesh(binary_img,\n",
    "                                             nuclei_sigma=resampling_voxelsize,\n",
    "                                             density_voxelsize=resampling_voxelsize,\n",
    "                                             maximal_length=10*resampling_voxelsize,\n",
    "                                             intensity_threshold=64,\n",
    "                                             decimation=100)\n",
    "\n",
    "    topomesh = up_facing_surface_topomesh(topomesh, normal_method='orientation', upwards=microscope_orientation==1)\n",
    "\n",
    "    start_time = current_time()\n",
    "    print(\"--> Computing mesh curvature\")\n",
    "    compute_topomesh_vertex_property_from_faces(topomesh,'normal',neighborhood=3,adjacency_sigma=1.2)\n",
    "\n",
    "    compute_topomesh_property(topomesh,'mean_curvature',2)\n",
    "    for property_name in curvature_properties:\n",
    "        compute_topomesh_vertex_property_from_faces(topomesh,property_name,neighborhood=3,adjacency_sigma=1.2)\n",
    "    print(\"<-- Computing mesh curvature [\", current_time() - start_time, \"s]\")\n",
    "\n",
    "    topomesh.update_wisp_property('barycenter_z',0,dict(zip(topomesh.wisps(0),topomesh.wisp_property('barycenter',0).values(list(topomesh.wisps(0)))[:,2])))\n",
    "\n",
    "    properties_to_save = {}\n",
    "    properties_to_save[0] = curvature_properties + ['normal','barycenter_z']\n",
    "    properties_to_save[1] = []\n",
    "    properties_to_save[2] = curvature_properties + ['normal','area']\n",
    "    properties_to_save[3] = []\n",
    "\n",
    "    save_ply_property_topomesh(topomesh,surface_filename,properties_to_save)\n",
    "else:\n",
    "    topomesh = read_ply_property_topomesh(surface_filename)"
   ]
  },
  {
   "cell_type": "code",
   "execution_count": null,
   "metadata": {},
   "outputs": [],
   "source": [
    "actors = []\n",
    "\n",
    "surface_actor = VtkActorTopomesh(topomesh,2,property_name='principal_curvature_min',property_degree=0)\n",
    "surface_actor.update(colormap='RdBu_r',value_range=(-0.1,0.1),opacity=1)\n",
    "actors += [surface_actor]\n",
    "\n",
    "figure_filename = dirname + '/' + filename + '/' + filename + '_surface_min_curvature.png'\n",
    "vtk_save_screenshot_actors(actors, figure_filename, focal_point=(0,0,-microscope_orientation), view_up=(0,microscope_orientation,0))\n",
    "vtk_display_notebook(actors)"
   ]
  },
  {
   "cell_type": "markdown",
   "metadata": {},
   "source": [
    "### Curvature-based SAM delineation"
   ]
  },
  {
   "cell_type": "code",
   "execution_count": null,
   "metadata": {},
   "outputs": [],
   "source": [
    "# convex_topomesh = property_filtering_sub_topomesh(topomesh,'gaussian_curvature',2,(gaussian_curvature_threshold,10))\n",
    "convex_topomesh = property_filtering_sub_topomesh(topomesh,'principal_curvature_min',2,(min_curvature_threshold,10))\n",
    "compute_topomesh_property(convex_topomesh,'area',2)\n",
    "\n",
    "convex_topomeshes = topomesh_connected_components(convex_topomesh,degree=2)\n",
    "mesh_scores = []\n",
    "for i_mesh, mesh in enumerate(convex_topomeshes):\n",
    "    mesh_area = mesh.wisp_property('area',2).values(list(mesh.wisps(2))).sum()\n",
    "    mesh_center = mesh.wisp_property('barycenter',0).values(list(mesh.wisps(0))).mean(axis=0)\n",
    "    \n",
    "    mesh_scores += [np.sqrt(mesh_area) / np.linalg.norm((mesh_center - np.array(seg_img.extent)/2.)[:2])]\n",
    "meristem_topomesh = convex_topomeshes[np.argmax(mesh_scores)]\n",
    "\n",
    "meristem_area = meristem_topomesh.wisp_property('area',2).values(list(meristem_topomesh.wisps(2))).sum()\n",
    "meristem_radius = np.sqrt(meristem_area/np.pi)\n",
    "\n",
    "meristem_curvature = np.nanmedian(meristem_topomesh.wisp_property('mean_curvature',2).values(list(meristem_topomesh.wisps(2))))"
   ]
  },
  {
   "cell_type": "code",
   "execution_count": null,
   "metadata": {},
   "outputs": [],
   "source": [
    "actors = []\n",
    "\n",
    "# actor = VtkActorTopomesh(topomesh,2,property_name='gaussian_curvature',property_degree=0)\n",
    "surface_actor = VtkActorTopomesh(topomesh,2,property_name='principal_curvature_min',property_degree=0)\n",
    "# actor.update(colormap='RdBu_r',value_range=(-0.002,0.002))\n",
    "surface_actor.update(colormap='RdBu_r',value_range=(-0.1,0.1),opacity=0.1)\n",
    "# surface_actor.update(colormap='RdBu_r',value_range=(-0.1,0.1),opacity=1)\n",
    "actors += [surface_actor]\n",
    "\n",
    "# actor = VtkActorTopomesh(topomesh,2,property_name='gaussian_curvature',property_degree=0)\n",
    "actor = VtkActorTopomesh(meristem_topomesh,2,property_name='principal_curvature_min',property_degree=0)\n",
    "# actor.update(colormap='RdBu_r',value_range=(-0.002,0.002))\n",
    "actor.update(colormap='RdBu_r',value_range=(-0.1,0.1))\n",
    "actors += [actor]\n",
    "\n",
    "\n",
    "figure_filename = dirname + '/' + filename + '/' + filename + '_meristem_surface.png'\n",
    "vtk_save_screenshot_actors(actors, figure_filename, focal_point=(0,0,-microscope_orientation), view_up=(-microscope_orientation,0,0))\n",
    "vtk_display_notebook(actors)"
   ]
  },
  {
   "cell_type": "markdown",
   "metadata": {},
   "source": [
    "### Meristem projection on the segmented image"
   ]
  },
  {
   "cell_type": "code",
   "execution_count": null,
   "metadata": {},
   "outputs": [],
   "source": [
    "p_img = PropertySpatialImage(seg_img)\n",
    "p_img.compute_image_property('layer')"
   ]
  },
  {
   "cell_type": "code",
   "execution_count": null,
   "metadata": {
    "scrolled": false
   },
   "outputs": [],
   "source": [
    "cell_center = p_img.image_property('barycenter')\n",
    "cell_layer = p_img.image_property('layer')\n",
    "\n",
    "cell_points = cell_center.values(p_img.labels)\n",
    "meristem_points = meristem_topomesh.wisp_property('barycenter',0).values(list(meristem_topomesh.wisps(0)))\n",
    "cell_meristem_distances = np.linalg.norm(cell_points[:,np.newaxis] - meristem_points[np.newaxis],axis=2).min(axis=1)\n",
    "cell_meristem_distances = array_dict(cell_meristem_distances,keys=p_img.labels)\n",
    "\n",
    "cell_meristem = {c:(cell_meristem_distances[c]<5.*resampling_voxelsize and cell_layer[c]==1) for c in p_img.labels}\n",
    "p_img.update_image_property('meristem',cell_meristem)\n",
    "\n",
    "image_property_morphological_operation(p_img,'meristem',method='closing',iterations=3)\n",
    "\n",
    "cell_meristem = p_img.image_property('meristem')\n",
    "for layer in [2,3]:\n",
    "    layer_cells = np.array([l for l in p_img.labels if cell_layer[l]==layer])\n",
    "    layer_neighbor_meristem_cells = [[n for n in p_img.image_graph.neighbors(l) if cell_meristem[n]] for l in layer_cells]\n",
    "    layer_meristem_neighborhood_size = np.array(list(map(len,layer_neighbor_meristem_cells)))\n",
    "    layer_meristem_cells = layer_cells[layer_meristem_neighborhood_size>3]\n",
    "    for c in layer_meristem_cells:\n",
    "        cell_meristem[c] = True\n",
    "    p_img.update_image_property('meristem',cell_meristem)\n",
    "    image_property_morphological_operation(p_img,'meristem',method='closing',iterations=3,layer_restriction=None)\n",
    "    cell_meristem = p_img.image_property('meristem')"
   ]
  },
  {
   "cell_type": "code",
   "execution_count": null,
   "metadata": {},
   "outputs": [],
   "source": [
    "actors = []\n",
    "\n",
    "cell_meristem = p_img.image_property('meristem')\n",
    "\n",
    "labels = [l for l in p_img.labels if p_img.image_property('barycenter')[l][0]>3*seg_img.extent[0]/5]\n",
    "\n",
    "meristem_polydatas = image_to_vtk_cell_polydatas(seg_img,\n",
    "                                                 labels=labels, \n",
    "                                                 cell_property=cell_meristem,\n",
    "                                                 cell_polydatas=cell_polydatas)\n",
    "meristem_polydata = vtk_combine_polydatas([meristem_polydatas[l] for l in labels])\n",
    "meristem_actor = vtk_actor(meristem_polydata,colormap='jet',value_range=(0,4))\n",
    "actors += [meristem_actor]\n",
    "\n",
    "figure_filename = dirname + '/' + filename + '/' + filename + '_meristem_cells.png'\n",
    "#vtk_save_screenshot_actors(actors, figure_filename, focal_point=(0,0,-microscope_orientation), view_up=(-microscope_orientation,0,0))\n",
    "vtk_save_screenshot_actors(actors, figure_filename, focal_point=(1,0,0), view_up=(0,0,microscope_orientation))\n",
    "vtk_display_notebook(actors)"
   ]
  },
  {
   "cell_type": "markdown",
   "metadata": {},
   "source": [
    "### Meristem cells property computation"
   ]
  },
  {
   "cell_type": "code",
   "execution_count": null,
   "metadata": {},
   "outputs": [],
   "source": [
    "p_img.compute_image_property('volume')\n",
    "\n",
    "l1_meristem_cells = [c for c in p_img.labels if p_img.image_property('meristem')[c] and p_img.image_property('layer')[c]==1]\n",
    "l1_meristem_cell_average_volume = np.nanmean([p_img.image_property('volume')[c] for c in l1_meristem_cells])"
   ]
  },
  {
   "cell_type": "code",
   "execution_count": null,
   "metadata": {},
   "outputs": [],
   "source": [
    "l1_labels = [c for c in p_img.labels if p_img.image_property('layer')[c] == 1]\n",
    "l1_cell_points = np.array([p_img.image_property('barycenter')[c] for c in l1_labels])\n",
    "surface_points = topomesh.wisp_property('barycenter',0).values(list(topomesh.wisps(0)))\n",
    "l1_surface_distances = np.linalg.norm(l1_cell_points[:,np.newaxis] - surface_points[np.newaxis],axis=2)\n",
    "l1_cell_surface_vertex = np.array(list(topomesh.wisps(0)))[np.argmin(l1_surface_distances,axis=1)]\n",
    "\n",
    "for property_name in curvature_properties:\n",
    "    l1_cell_curvature = dict(zip(l1_labels,topomesh.wisp_property(property_name,0).values(l1_cell_surface_vertex)))\n",
    "    p_img.update_image_property(property_name,{c:l1_cell_curvature[c] if c in l1_labels else np.nan for c in p_img.labels})"
   ]
  },
  {
   "cell_type": "code",
   "execution_count": null,
   "metadata": {
    "scrolled": false
   },
   "outputs": [],
   "source": [
    "from visu_core.vtk.utils.image_tools import image_to_surface_cell_scalar_property_polydata\n",
    "from visu_core.vtk.utils.polydata_tools import vtk_tube_polydata\n",
    "from visu_core.matplotlib.colormap import plain_colormap\n",
    "\n",
    "actors = []\n",
    "\n",
    "cell_curvature = p_img.image_property('mean_curvature')\n",
    "curvature_polydatas = image_to_vtk_cell_polydatas(seg_img, \n",
    "                                                  labels=l1_labels, \n",
    "                                                  cell_polydatas=cell_polydatas, \n",
    "                                                  cell_property=cell_curvature)\n",
    "curvature_polydata = vtk_combine_polydatas([curvature_polydatas[l] for l in l1_labels])\n",
    "curvature_actor = vtk_actor(curvature_polydata,colormap='RdBu_r',value_range=(-0.1,0.1))\n",
    "actors += [curvature_actor]\n",
    "\n",
    "meristem_polydata = image_to_surface_cell_scalar_property_polydata(seg_img,cell_property=cell_meristem)\n",
    "\n",
    "contour = vtk.vtkContourFilter()\n",
    "contour.SetInputData(meristem_polydata)\n",
    "contour.SetValue(0,1)\n",
    "contour.SetGenerateTriangles(False)\n",
    "contour.Update()\n",
    "meristem_contour = vtk_tube_polydata(contour.GetOutput(),radius=0.5)\n",
    "\n",
    "meristem_actor = vtk_actor(meristem_contour,colormap=plain_colormap('red'))\n",
    "actors += [meristem_actor]\n",
    "\n",
    "figure_filename = dirname + '/' + filename + '/' + filename + '_meristem_cell_curvature.png'\n",
    "vtk_save_screenshot_actors(actors, figure_filename, focal_point=(0,0,-microscope_orientation), view_up=(-microscope_orientation,0,0))\n",
    "vtk_display_notebook(actors)"
   ]
  },
  {
   "cell_type": "markdown",
   "metadata": {},
   "source": [
    "### Cell signal quantification"
   ]
  },
  {
   "cell_type": "code",
   "execution_count": null,
   "metadata": {},
   "outputs": [],
   "source": [
    "if len(signal_channels) > 0:\n",
    "    eroded_seg_img = labels_post_processing(seg_img, method='erosion', radius=quantification_erosion_radius, iterations=1)\n",
    "\n",
    "    for i_s, signal_name in enumerate(signal_channels):\n",
    "        signal_img = img_dict[signal_name]\n",
    "\n",
    "        cell_total_signals = nd.sum(signal_img.get_array().astype(float),eroded_seg_img.get_array(),index=p_img.labels)\n",
    "        cell_volumes = nd.sum(np.ones_like(eroded_seg_img.get_array()),eroded_seg_img.get_array(),index=p_img.labels)\n",
    "        cell_signals = dict(zip(p_img.labels,cell_total_signals/cell_volumes))\n",
    "        p_img.update_image_property(signal_name,cell_signals)"
   ]
  },
  {
   "cell_type": "code",
   "execution_count": null,
   "metadata": {},
   "outputs": [],
   "source": [
    "if len(signal_channels) > 0:\n",
    "    \n",
    "    for i_s, signal_name in enumerate(signal_channels):\n",
    "        actors = []\n",
    "\n",
    "        signal_image_data = vtk_image_data_from_image(img_dict[signal_name].get_array(), \n",
    "                                                      voxelsize=img_dict[signal_name].voxelsize)\n",
    "        signal_volume = vtk_image_volume(signal_image_data,colormap='gray')\n",
    "        actors += [signal_volume]\n",
    "        \n",
    "        figure_filename = dirname + '/' + filename + '/' + filename + '_' + signal_name + '_signal_image.png'\n",
    "        vtk_save_screenshot_actors(actors, figure_filename, focal_point=(0,0,-microscope_orientation), view_up=(-microscope_orientation,0,0))\n",
    "\n",
    "        cell_signal = p_img.image_property(signal_name)\n",
    "        signal_polydatas = image_to_vtk_cell_polydatas(seg_img, \n",
    "                                                       labels=labels, \n",
    "                                                       cell_polydatas=cell_polydatas, \n",
    "                                                       cell_property=cell_signal)\n",
    "\n",
    "        signal_polydata = vtk_combine_polydatas([signal_polydatas[l] for l in labels])\n",
    "        signal_actor = vtk_actor(signal_polydata,colormap='gray')\n",
    "        actors += [signal_actor]\n",
    "\n",
    "        meristem_actor = vtk_actor(meristem_contour,colormap=plain_colormap('red'))\n",
    "        actors += [meristem_actor]\n",
    "\n",
    "        figure_filename = dirname + '/' + filename + '/' + filename + '_meristem_cell_' + signal_name + '_signal.png'\n",
    "        vtk_save_screenshot_actors(actors, figure_filename, focal_point=(0,0,-microscope_orientation), view_up=(-microscope_orientation,0,0))\n",
    "\n",
    "        vtk_display_notebook(actors)"
   ]
  },
  {
   "cell_type": "markdown",
   "metadata": {},
   "source": [
    "### Cell data export"
   ]
  },
  {
   "cell_type": "code",
   "execution_count": null,
   "metadata": {},
   "outputs": [],
   "source": [
    "cell_df = property_image_to_dataframe(p_img)\n",
    "\n",
    "cell_data_filename = dirname + '/' + filename + '/' + filename + '_cell_data.csv'\n",
    "cell_df.to_csv(cell_data_filename,index=False)"
   ]
  },
  {
   "cell_type": "markdown",
   "metadata": {},
   "source": [
    "### SAM data export"
   ]
  },
  {
   "cell_type": "code",
   "execution_count": null,
   "metadata": {},
   "outputs": [],
   "source": [
    "meristem_data = {}\n",
    "meristem_data['filename'] = [filename]\n",
    "meristem_data['area'] = [meristem_area]\n",
    "meristem_data['mean_curvature'] = [meristem_curvature]\n",
    "meristem_data['L1_cells'] = [len(l1_meristem_cells)]\n",
    "meristem_data['L1_cell_volume'] = [l1_meristem_cell_average_volume]\n",
    "meristem_df = pd.DataFrame().from_dict(meristem_data)\n",
    "\n",
    "print(meristem_df)\n",
    "meristem_data_filename = dirname + '/' + filename + '/' + filename + '_meristem_data.csv'\n",
    "meristem_df.to_csv(meristem_data_filename,index=False)"
   ]
  },
  {
   "cell_type": "code",
   "execution_count": null,
   "metadata": {},
   "outputs": [],
   "source": []
  }
 ],
 "metadata": {
  "kernelspec": {
   "display_name": "Python 3",
   "language": "python",
   "name": "python3"
  },
  "language_info": {
   "codemirror_mode": {
    "name": "ipython",
    "version": 3
   },
   "file_extension": ".py",
   "mimetype": "text/x-python",
   "name": "python",
   "nbconvert_exporter": "python",
   "pygments_lexer": "ipython3",
   "version": "3.7.9"
  }
 },
 "nbformat": 4,
 "nbformat_minor": 4
}
