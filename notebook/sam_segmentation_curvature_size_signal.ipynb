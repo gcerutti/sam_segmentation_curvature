{
 "cells": [
  {
   "cell_type": "markdown",
   "metadata": {},
   "source": [
    "## SAM segmentation, meristem delineation, size and curvature estimation & signal quantification\n",
    "\n",
    "### Necessary imports"
   ]
  },
  {
   "cell_type": "code",
   "execution_count": null,
   "metadata": {},
   "outputs": [],
   "source": [
    "import os\n",
    "from time import time as current_time\n",
    "from copy import deepcopy\n",
    "\n",
    "import numpy as np\n",
    "import scipy.ndimage as nd\n",
    "import pandas as pd\n",
    "import matplotlib.pyplot as plt\n",
    "\n",
    "from scipy.optimize import linear_sum_assignment\n",
    "\n",
    "import panel\n",
    "import vtk\n",
    "\n",
    "from timagetk.components import SpatialImage, LabelledImage\n",
    "from timagetk.io import imread, imsave\n",
    "from timagetk.plugins.resampling import isometric_resampling\n",
    "from timagetk.plugins import labels_post_processing\n",
    "\n",
    "from cellcomplex.utils.array_dict import array_dict\n",
    "\n",
    "from cellcomplex.property_topomesh.creation import tetrahedra_topomesh, triangle_topomesh, edge_topomesh, vertex_topomesh\n",
    "from cellcomplex.property_topomesh.analysis import compute_topomesh_property, compute_topomesh_vertex_property_from_faces, topomesh_property_gaussian_filtering\n",
    "from cellcomplex.property_topomesh.morphology import topomesh_binary_property_morphological_operation\n",
    "from cellcomplex.property_topomesh.optimization import property_topomesh_vertices_deformation\n",
    "from cellcomplex.property_topomesh.extraction import property_filtering_sub_topomesh, topomesh_connected_components\n",
    "from cellcomplex.property_topomesh.io import read_ply_property_topomesh, save_ply_property_topomesh\n",
    "   \n",
    "from cellcomplex.property_topomesh.visualization.vtk_actor_topomesh import VtkActorTopomesh\n",
    "\n",
    "from cellcomplex.property_topomesh.utils.matching_tools import kd_tree_match\n",
    "from cellcomplex.property_topomesh.utils.geometry_tools import triangle_geometric_features, tetra_geometric_features\n",
    " \n",
    "from tissue_nukem_3d.microscopy_images.read_microscopy_image import read_czi_image, read_tiff_image\n",
    "from tissue_nukem_3d.nuclei_mesh_tools import nuclei_image_surface_topomesh, up_facing_surface_topomesh\n",
    "from tissue_nukem_3d.utils.matplotlib_tools import draw_box\n",
    "\n",
    "from tissue_analysis.tissue_analysis import TissueImage\n",
    "from tissue_analysis.array_tools import find_geometric_median\n",
    "from tissue_analysis.property_spatial_image import PropertySpatialImage\n",
    "\n",
    "from sam_atlas.meristem_surface import meristem_surface_topomesh, curvature_meristem_extraction\n",
    "\n",
    "from visu_core.matplotlib import glasbey\n",
    "from visu_core.matplotlib.colormap import plain_colormap\n",
    "\n",
    "from visu_core.vtk.display import vtk_display_notebook, vtk_display_image_notebook, vtk_save_screenshot_actors\n",
    "from visu_core.vtk.volume import vtk_image_volume\n",
    "from visu_core.vtk.actor import vtk_actor\n",
    "\n",
    "from visu_core.vtk.utils.image_tools import vtk_image_data_from_image, image_to_vtk_cell_polydatas, image_to_surface_intensity_polydata, image_to_surface_cell_scalar_property_polydata\n",
    "from visu_core.vtk.utils.polydata_tools import vtk_combine_polydatas, vtk_tube_polydata, vtk_slice_polydata"
   ]
  },
  {
   "cell_type": "markdown",
   "metadata": {},
   "source": [
    "### Import locally defined tools"
   ]
  },
  {
   "cell_type": "code",
   "execution_count": null,
   "metadata": {},
   "outputs": [],
   "source": [
    "from utils.image_tools import membrane_image_segmentation, labelled_image_projection\n",
    "from utils.property_image_tools import image_property_morphological_operation, property_image_to_dataframe, image_property_median_filtering\n",
    "from utils.adjacency_tools import triangles_from_adjacency_edges"
   ]
  },
  {
   "cell_type": "markdown",
   "metadata": {},
   "source": [
    "### File path information"
   ]
  },
  {
   "cell_type": "code",
   "execution_count": null,
   "metadata": {},
   "outputs": [],
   "source": [
    "dirname = '/Users/gcerutti/Projects/RDP/LayerHeight_Marketa/test/'\n",
    "#dirname = '/home/carlos/Documents/WORK/Image analysis/20160625 MS-E3 CLV-DR5/LD/RAW'\n",
    "\n",
    "#filename = 'E15_SAM02'\n",
    "filename = 'E_set_blue_SAM02'\n",
    "#filename = 'Col-0-PI-SAM3'\n",
    "#filename = 'CLV3-CH-DR5-3VE-MS-E3-LD-SAM3'\n",
    "#filename = 'CLV3-CH-DR5-3VE-MS-E3-LD-SAM5'"
   ]
  },
  {
   "cell_type": "markdown",
   "metadata": {},
   "source": [
    "### Algorithm parameters"
   ]
  },
  {
   "cell_type": "code",
   "execution_count": null,
   "metadata": {},
   "outputs": [],
   "source": [
    "# image parameters\n",
    "channel_names = ['PI']\n",
    "#channel_names = ['Signal','PI']\n",
    "#channel_names = ['CLV3','DR5','PI']\n",
    "membrane_channel = 'PI'\n",
    "#signal_channels = ['CLV3','DR5']\n",
    "#signal_channels = ['Signal']\n",
    "signal_channels = []\n",
    "microscope_orientation = 1\n",
    "\n",
    "# segmentation parameters\n",
    "recompute_segmentation = False\n",
    "gaussian_sigma = 0.75\n",
    "h_min = 200\n",
    "segmentation_gaussian_sigma = 0.5\n",
    "volume_threshold = 100000\n",
    "\n",
    "# SAM surface extraction parameters\n",
    "recompute_surface = False\n",
    "resampling_voxelsize = 1.\n",
    "gaussian_curvature_threshold = -2.5e-4\n",
    "min_curvature_threshold = -1e-3\n",
    "\n",
    "# Layer height estimation parameters\n",
    "surface_matching_distance_threshold = 20.\n",
    "\n",
    "# Signal quantification parameters\n",
    "quantification_erosion_radius = 1.\n",
    "\n",
    "# Visualization parameters\n",
    "subsampling = 2\n",
    "figure_size = 8"
   ]
  },
  {
   "cell_type": "markdown",
   "metadata": {},
   "source": [
    "### Preparing folder architecture"
   ]
  },
  {
   "cell_type": "code",
   "execution_count": null,
   "metadata": {},
   "outputs": [],
   "source": [
    "if not os.path.exists(dirname + \"/\" + filename + \"/\"):\n",
    "    os.makedirs(dirname + \"/\" + filename + \"/\")"
   ]
  },
  {
   "cell_type": "markdown",
   "metadata": {},
   "source": [
    "### Reading the microscopy image"
   ]
  },
  {
   "cell_type": "code",
   "execution_count": null,
   "metadata": {},
   "outputs": [],
   "source": [
    "microscopy_filename = dirname + '/' + filename + '.czi'\n",
    "img_dict = read_czi_image(microscopy_filename, channel_names)\n",
    "if len(channel_names) == 1:\n",
    "    img_dict = {channel_names[0]:img_dict}"
   ]
  },
  {
   "cell_type": "code",
   "execution_count": null,
   "metadata": {},
   "outputs": [],
   "source": [
    "actors = []\n",
    "image_data = vtk_image_data_from_image(img_dict[membrane_channel].get_array(), \n",
    "                                       voxelsize=img_dict[membrane_channel].voxelsize)\n",
    "volume = vtk_image_volume(image_data,colormap='gray')\n",
    "actors += [volume]\n",
    "\n",
    "figure_filename = dirname + '/' + filename + '/' + filename + '_membrane_image.png'\n",
    "vtk_save_screenshot_actors(actors, figure_filename, focal_point=(0,0,-microscope_orientation), view_up=(-microscope_orientation,0,0))\n",
    "\n",
    "#actors = []\n",
    "#surface_polydata = image_to_surface_intensity_polydata(img_dict[membrane_channel],subsampling=3,threshold=2000)\n",
    "#surface_actor = vtk_actor(surface_polydata,colormap='gray')\n",
    "#actors += [surface_actor]\n",
    "\n",
    "vtk_display_notebook(actors)\n",
    "#vtk_display_image_notebook(image_data,colormap='Greys')\n"
   ]
  },
  {
   "cell_type": "markdown",
   "metadata": {},
   "source": [
    "### Auto-seeded watershed segmentation"
   ]
  },
  {
   "cell_type": "code",
   "execution_count": null,
   "metadata": {},
   "outputs": [],
   "source": [
    "segmentation_filename = dirname + '/' + filename + '/' + filename + '_' + membrane_channel + '_seg.tif'\n",
    "\n",
    "if recompute_segmentation or not os.path.exists(segmentation_filename):\n",
    "    seg_img = membrane_image_segmentation(img_dict[membrane_channel],\n",
    "                                          gaussian_sigma=gaussian_sigma,\n",
    "                                          h_min=h_min,\n",
    "                                          segmentation_gaussian_sigma=segmentation_gaussian_sigma,\n",
    "                                          volume_threshold=volume_threshold)\n",
    "    imsave(segmentation_filename, seg_img)\n",
    "else:\n",
    "    seg_img = read_tiff_image(segmentation_filename)\n",
    "    seg_img = LabelledImage(seg_img, no_label_id=0)\n"
   ]
  },
  {
   "cell_type": "code",
   "execution_count": null,
   "metadata": {},
   "outputs": [],
   "source": [
    "actors = []\n",
    "\n",
    "labels = [l for l in seg_img.labels() if l!=1]\n",
    "\n",
    "cell_polydatas = image_to_vtk_cell_polydatas(seg_img,\n",
    "                                             labels=labels, \n",
    "                                             subsampling=[int(np.round(0.8/v)) for v in seg_img.voxelsize], \n",
    "                                             smoothing=10)\n",
    "cell_polydata = vtk_combine_polydatas([cell_polydatas[l] for l in labels])\n",
    "cell_actor = vtk_actor(cell_polydata,colormap='glasbey',value_range=(0,255))\n",
    "actors += [cell_actor]\n",
    "\n",
    "figure_filename = dirname + '/' + filename + '/' + filename + '_segmented_cells.png'\n",
    "vtk_save_screenshot_actors(actors, figure_filename, focal_point=(0,0,-microscope_orientation), view_up=(-microscope_orientation,0,0))\n",
    "vtk_display_notebook(actors)"
   ]
  },
  {
   "cell_type": "markdown",
   "metadata": {},
   "source": [
    "### Surface extraction"
   ]
  },
  {
   "cell_type": "code",
   "execution_count": null,
   "metadata": {},
   "outputs": [],
   "source": [
    "binary_img = SpatialImage(nd.gaussian_filter(255*(seg_img>1),sigma=1./np.array(seg_img.voxelsize)).astype(np.uint8),voxelsize=seg_img.voxelsize)\n",
    "\n",
    "if resampling_voxelsize is not None:\n",
    "    binary_img = isometric_resampling(binary_img, method=resampling_voxelsize, option='linear')\n",
    "else:\n",
    "    resampling_voxelsize = np.array(binary_img.voxelsize)"
   ]
  },
  {
   "cell_type": "code",
   "execution_count": null,
   "metadata": {
    "scrolled": false
   },
   "outputs": [],
   "source": [
    "surface_filename = dirname + '/' + filename + '/' + filename + '_' + membrane_channel + '_surface.ply'\n",
    "\n",
    "curvature_properties = ['mean_curvature', 'gaussian_curvature', 'principal_curvature_min', 'principal_curvature_max']\n",
    "\n",
    "if recompute_surface or not os.path.exists(surface_filename):\n",
    "    topomesh = meristem_surface_topomesh(signal_img=None,\n",
    "                                         seg_img=seg_img,\n",
    "                                         resampling_voxelsize=resampling_voxelsize,\n",
    "                                         microscope_orientation=microscope_orientation)\n",
    "    properties_to_save = {}\n",
    "    properties_to_save[0] = curvature_properties + ['normal','barycenter_z']\n",
    "    properties_to_save[1] = []\n",
    "    properties_to_save[2] = curvature_properties + ['normal','area']\n",
    "    properties_to_save[3] = []\n",
    "\n",
    "    save_ply_property_topomesh(topomesh,surface_filename,properties_to_save)\n",
    "else:\n",
    "    topomesh = read_ply_property_topomesh(surface_filename)"
   ]
  },
  {
   "cell_type": "code",
   "execution_count": null,
   "metadata": {},
   "outputs": [],
   "source": [
    "actors = []\n",
    "\n",
    "surface_actor = VtkActorTopomesh(topomesh,2,property_name='principal_curvature_min',property_degree=0)\n",
    "surface_actor.update(colormap='RdBu_r',value_range=(-0.1,0.1),opacity=1)\n",
    "actors += [surface_actor]\n",
    "\n",
    "figure_filename = dirname + '/' + filename + '/' + filename + '_surface_min_curvature.png'\n",
    "vtk_save_screenshot_actors(actors, figure_filename, focal_point=(0,0,-microscope_orientation), view_up=(-microscope_orientation,0,0))\n",
    "vtk_display_notebook(actors)"
   ]
  },
  {
   "cell_type": "markdown",
   "metadata": {},
   "source": [
    "### Curvature-based SAM delineation"
   ]
  },
  {
   "cell_type": "code",
   "execution_count": null,
   "metadata": {},
   "outputs": [],
   "source": [
    "meristem_topomesh = curvature_meristem_extraction(topomesh,\n",
    "                                                  curvature_property='principal_curvature_min',\n",
    "                                                  curvature_threshold=min_curvature_threshold,\n",
    "                                                  image_center=np.array(seg_img.extent)/2.)\n",
    "\n",
    "meristem_area = meristem_topomesh.wisp_property('area',2).values(list(meristem_topomesh.wisps(2))).sum()\n",
    "meristem_radius = np.sqrt(meristem_area/np.pi)\n",
    "\n",
    "meristem_curvature = np.nanmedian(meristem_topomesh.wisp_property('mean_curvature',2).values(list(meristem_topomesh.wisps(2))))"
   ]
  },
  {
   "cell_type": "code",
   "execution_count": null,
   "metadata": {},
   "outputs": [],
   "source": [
    "actors = []\n",
    "\n",
    "# actor = VtkActorTopomesh(topomesh,2,property_name='gaussian_curvature',property_degree=0)\n",
    "surface_actor = VtkActorTopomesh(topomesh,2,property_name='principal_curvature_min',property_degree=0)\n",
    "# actor.update(colormap='RdBu_r',value_range=(-0.002,0.002))\n",
    "surface_actor.update(colormap='RdBu_r',value_range=(-0.1,0.1),opacity=0.1)\n",
    "# surface_actor.update(colormap='RdBu_r',value_range=(-0.1,0.1),opacity=1)\n",
    "actors += [surface_actor]\n",
    "\n",
    "# actor = VtkActorTopomesh(topomesh,2,property_name='gaussian_curvature',property_degree=0)\n",
    "actor = VtkActorTopomesh(meristem_topomesh,2,property_name='principal_curvature_min',property_degree=0)\n",
    "# actor.update(colormap='RdBu_r',value_range=(-0.002,0.002))\n",
    "actor.update(colormap='RdBu_r',value_range=(-0.1,0.1))\n",
    "actors += [actor]\n",
    "\n",
    "\n",
    "figure_filename = dirname + '/' + filename + '/' + filename + '_meristem_surface.png'\n",
    "vtk_save_screenshot_actors(actors, figure_filename, focal_point=(0,0,-microscope_orientation), view_up=(-microscope_orientation,0,0))\n",
    "vtk_display_notebook(actors)"
   ]
  },
  {
   "cell_type": "markdown",
   "metadata": {},
   "source": [
    "### Meristem projection on the segmented image"
   ]
  },
  {
   "cell_type": "code",
   "execution_count": null,
   "metadata": {},
   "outputs": [],
   "source": [
    "p_img = PropertySpatialImage(seg_img)\n",
    "p_img.compute_image_property('layer')"
   ]
  },
  {
   "cell_type": "code",
   "execution_count": null,
   "metadata": {
    "scrolled": false
   },
   "outputs": [],
   "source": [
    "cell_layer = p_img.image_property('layer')\n",
    "all_layer_img = p_img.create_property_image('layer', background_value=0)\n",
    "\n",
    "surface_voxelsize = 0.66\n",
    "\n",
    "layer_img = {}\n",
    "cell_surface_center = {}\n",
    "for layer in [1,2,3,4]:\n",
    "    layer_img[layer] = LabelledImage(SpatialImage((all_layer_img.get_array()>layer-1).astype(np.uint8),voxelsize=seg_img.voxelsize),no_label_id=0)\n",
    "    \n",
    "    layer_seg_img = deepcopy(seg_img)\n",
    "    layer_seg_img[layer_img[layer]==0] = 1\n",
    "    \n",
    "    if surface_voxelsize is not None:\n",
    "        layer_seg_img = isometric_resampling(layer_seg_img, method=surface_voxelsize, option='label')\n",
    "    else:\n",
    "        surface_voxelsize = np.array(seg_img.voxelsize)\n",
    "    layer_seg_img = LabelledImage(SpatialImage(layer_seg_img,voxelsize=surface_voxelsize),no_label_id=0)\n",
    "    \n",
    "    layer_tissue_img = TissueImage(layer_seg_img, no_label_id=0, background=1)\n",
    "    elements_coord = layer_tissue_img.topological_elements(element_order=[2])\n",
    "    for d in [2]:\n",
    "        for k in elements_coord[d].keys():\n",
    "            elements_coord[d][k] *= surface_voxelsize\n",
    "    \n",
    "    layer_cells = [c for c in p_img.labels if cell_layer[c]==layer]\n",
    "    for c in layer_cells:\n",
    "        if (1,c) in elements_coord[2].keys():\n",
    "            surface_center = elements_coord[2][(1,c)][find_geometric_median(elements_coord[2][(1,c)])]\n",
    "            cell_surface_center[c] = surface_center\n",
    "        else:\n",
    "            print(\"Missed cell\",c)\n",
    "\n",
    "cell_surface_center = array_dict(cell_surface_center)"
   ]
  },
  {
   "cell_type": "code",
   "execution_count": null,
   "metadata": {
    "scrolled": false
   },
   "outputs": [],
   "source": [
    "cell_surface_topomesh = vertex_topomesh(cell_surface_center)\n",
    "cell_surface_topomesh.update_wisp_property('layer',0,{c:cell_layer[c] for c in cell_surface_center.keys()})\n",
    "\n",
    "actors = []\n",
    "\n",
    "cell_actor = VtkActorTopomesh(cell_surface_topomesh, 0, property_name='layer', point_glyph='sphere')\n",
    "cell_actor.update(colormap='jet',value_range=(0,4))\n",
    "actors += [cell_actor]\n",
    "\n",
    "vtk_display_notebook(actors)"
   ]
  },
  {
   "cell_type": "code",
   "execution_count": null,
   "metadata": {
    "scrolled": false
   },
   "outputs": [],
   "source": [
    "cell_center = p_img.image_property('barycenter')\n",
    "cell_layer = p_img.image_property('layer')\n",
    "\n",
    "cell_points = cell_center.values(p_img.labels)\n",
    "meristem_points = meristem_topomesh.wisp_property('barycenter',0).values(list(meristem_topomesh.wisps(0)))\n",
    "cell_meristem_distances = np.linalg.norm(cell_points[:,np.newaxis] - meristem_points[np.newaxis],axis=2).min(axis=1)\n",
    "cell_meristem_distances = array_dict(cell_meristem_distances,keys=p_img.labels)\n",
    "\n",
    "cell_meristem = {c:(cell_meristem_distances[c]<5.*resampling_voxelsize and cell_layer[c]==1) for c in p_img.labels}\n",
    "p_img.update_image_property('meristem',cell_meristem)\n",
    "\n",
    "image_property_morphological_operation(p_img,'meristem',method='closing',iterations=3)\n",
    "\n",
    "cell_meristem = p_img.image_property('meristem')\n",
    "\n",
    "layer_meristem_cell_tetra_heights = {}\n",
    "layer_meristem_tetrahedra_meshes = {}\n",
    "\n",
    "for layer in [2,3,4]:\n",
    "    layer_cells = np.array([l for l in p_img.labels if cell_layer[l]==layer])\n",
    "    prev_layer_cells = np.array([l for l in p_img.labels if cell_layer[l]==layer-1])\n",
    "    \n",
    "    prev_layer_cell_neighbors = np.array([n for l in prev_layer_cells \n",
    "                                            for n in p_img.image_graph.neighbors(l) \n",
    "                                            if n in prev_layer_cells])\n",
    "    prev_layer_cell_neighbor_cells = np.array([l for l in prev_layer_cells \n",
    "                                                 for n in p_img.image_graph.neighbors(l) \n",
    "                                                 if n in prev_layer_cells])\n",
    "    \n",
    "    prev_layer_neighborhood_edges = np.transpose([prev_layer_cell_neighbor_cells,prev_layer_cell_neighbors])\n",
    "    prev_layer_neighborhood_edges = np.unique(np.sort(prev_layer_neighborhood_edges),axis=0)\n",
    "    \n",
    "    prev_layer_neighborhood_triangles = triangles_from_adjacency_edges(prev_layer_neighborhood_edges)\n",
    "    prev_layer_neighborhood_meristem_triangles = prev_layer_neighborhood_triangles[np.all(cell_meristem.values(prev_layer_neighborhood_triangles),axis=1)]\n",
    "    \n",
    "    prev_layer_meristem_tetrahedras = np.array([list(t)+[n] \n",
    "                                                for t in prev_layer_neighborhood_meristem_triangles\n",
    "                                                for n in layer_cells \n",
    "                                                if np.all([n in p_img.image_graph.neighbors(l) for l in t])])\n",
    "    \n",
    "    valid_tetras = np.all(np.isin(prev_layer_meristem_tetrahedras,list(cell_surface_center.keys())),axis=1)\n",
    "    prev_layer_meristem_tetrahedras = prev_layer_meristem_tetrahedras[valid_tetras]\n",
    "    \n",
    "    tetra_topomesh = tetrahedra_topomesh(prev_layer_meristem_tetrahedras,cell_surface_center)\n",
    "    layer_meristem_tetrahedra_meshes[layer-1] = tetra_topomesh\n",
    "    \n",
    "    prev_layer_meristem_tetra_volumes = tetra_geometric_features(prev_layer_meristem_tetrahedras,cell_surface_center,['volume'])[:,0]\n",
    "    prev_layer_meristem_tetra_base_areas = triangle_geometric_features(prev_layer_meristem_tetrahedras[:,:3],cell_surface_center,['area'])[:,0]\n",
    "    prev_layer_meristem_tetra_heights = 3*prev_layer_meristem_tetra_volumes/prev_layer_meristem_tetra_base_areas\n",
    "    layer_meristem_cell_tetra_heights[layer-1] = prev_layer_meristem_tetra_heights\n",
    "    \n",
    "    layer_meristem_cells = np.unique([t[-1] for t in prev_layer_meristem_tetrahedras])\n",
    "                \n",
    "    for c in layer_meristem_cells:\n",
    "        cell_meristem[c] = True\n",
    "    p_img.update_image_property('meristem',cell_meristem)\n",
    "    image_property_morphological_operation(p_img,'meristem',method='closing',iterations=3,layer_restriction=None)\n",
    "    cell_meristem = p_img.image_property('meristem')"
   ]
  },
  {
   "cell_type": "code",
   "execution_count": null,
   "metadata": {
    "scrolled": false
   },
   "outputs": [],
   "source": [
    "layer_colormaps = dict(zip([1,2,3,4],['Blues','Reds','Greens','Greys']))\n",
    "\n",
    "actors = []\n",
    "for layer in [1,2,3]:\n",
    "    actor = VtkActorTopomesh(layer_meristem_tetrahedra_meshes[layer],3)\n",
    "    actor.update_polydata()\n",
    "    # actor.polydata = vtk_slice_polydata(vtk_slice_polydata(actor.polydata,axis='x',position=seg_img.extent[0]/2.,width=30.),axis='y',position=seg_img.extent[1]/2.,width=30.)\n",
    "    # actor.display_polydata = vtk_slice_polydata(actor.polydata,axis='y',position=3*seg_img.extent[1]/5.,width=15.)\n",
    "    actor.update_actor(colormap=layer_colormaps[layer],value_range=(0,1))\n",
    "    actor.GetProperty().SetRepresentationToWireframe()\n",
    "    actors += [actor]\n",
    "\n",
    "figure_filename = dirname + '/' + filename + '/' + filename + '_inter_layer_tetrahedra.png'\n",
    "#vtk_save_screenshot_actors([layer_actor], figure_filename, focal_point=(0,0,-microscope_orientation), view_up=(-microscope_orientation,0,0))\n",
    "vtk_save_screenshot_actors(actors, figure_filename, focal_point=(0,1,0), view_up=(0,0,microscope_orientation))\n",
    "\n",
    "vtk_display_notebook(actors)"
   ]
  },
  {
   "cell_type": "code",
   "execution_count": null,
   "metadata": {},
   "outputs": [],
   "source": [
    "layer_colors = dict(zip([1,2,3,4],['b','r','g','k']))\n",
    "\n",
    "figure = plt.figure(3)\n",
    "figure.clf()\n",
    "for layer in [1,2,3]:\n",
    "    draw_box(figure,layer_meristem_cell_tetra_heights[layer],box_x=layer,box_width=0.33,color=layer_colors[layer],outlier_size=5)\n",
    "figure.gca().set_xlim(0,4)\n",
    "figure.gca().set_xticks([1,2,3])\n",
    "figure.gca().set_xticklabels(['L'+str(l) for l in [1,2,3]],size=24)\n",
    "figure.gca().set_ylim(0,surface_matching_distance_threshold)\n",
    "figure.gca().set_ylabel(\"Layer height ($\\mu$m)\",size=24)\n",
    "figure.set_size_inches(10,10)\n",
    "\n",
    "boxplot_filename = dirname + '/' + filename + '/' + filename + '_layer_tetra_height_boxplot.png'\n",
    "figure.savefig(boxplot_filename)"
   ]
  },
  {
   "cell_type": "code",
   "execution_count": null,
   "metadata": {},
   "outputs": [],
   "source": [
    "cell_layer = p_img.image_property('layer')\n",
    "cell_meristem = p_img.image_property('meristem')\n",
    "\n",
    "#labels = [l for l in p_img.labels if p_img.image_property('barycenter')[l][1]>3*seg_img.extent[0]/5]\n",
    "labels = [l for l in p_img.labels]\n",
    "\n",
    "meristem_polydatas = image_to_vtk_cell_polydatas(seg_img,\n",
    "                                                 labels=labels, \n",
    "                                                 cell_property=cell_meristem,\n",
    "                                                 cell_polydatas=cell_polydatas)\n",
    "meristem_polydata = vtk_combine_polydatas([meristem_polydatas[l] for l in labels])\n",
    "meristem_actor = vtk_actor(meristem_polydata,colormap='glasbey',value_range=(-1,254))\n",
    "\n",
    "figure_filename = dirname + '/' + filename + '/' + filename + '_meristem_cells.png'\n",
    "vtk_save_screenshot_actors([meristem_actor], figure_filename, focal_point=(0,0,-microscope_orientation), view_up=(-microscope_orientation,0,0))\n",
    "meristem_panel = vtk_display_notebook([meristem_actor])\n",
    "\n",
    "labels = [l for l in p_img.labels if p_img.image_property('barycenter')[l][1]>3*seg_img.extent[0]/5\n",
    "                                  and cell_meristem[l]]\n",
    "\n",
    "\n",
    "layer_polydatas = image_to_vtk_cell_polydatas(seg_img,\n",
    "                                              labels=labels, \n",
    "                                              cell_property=cell_layer,\n",
    "                                              cell_polydatas=cell_polydatas)\n",
    "layer_polydata = vtk_combine_polydatas([layer_polydatas[l] for l in labels])\n",
    "layer_actor = vtk_actor(layer_polydata,colormap='jet',value_range=(0,4))\n",
    "\n",
    "figure_filename = dirname + '/' + filename + '/' + filename + '_meristem_cell_layers.png'\n",
    "vtk_save_screenshot_actors([layer_actor], figure_filename, focal_point=(0,1,0), view_up=(0,0,microscope_orientation))\n",
    "layer_panel = vtk_display_notebook([layer_actor])\n",
    "\n",
    "panel.Row(meristem_panel,layer_panel)"
   ]
  },
  {
   "cell_type": "markdown",
   "metadata": {},
   "source": [
    "### Layer height estimation"
   ]
  },
  {
   "cell_type": "code",
   "execution_count": null,
   "metadata": {},
   "outputs": [],
   "source": [
    "all_layer_img = p_img.create_property_image('layer', background_value=0)\n",
    "\n",
    "surface_voxelsize = 2.\n",
    "\n",
    "layer_img = {}\n",
    "for layer in [1, 2, 3, 4]:\n",
    "    layer_img[layer] = LabelledImage(SpatialImage((all_layer_img.get_array()>layer-1).astype(np.uint8),voxelsize=seg_img.voxelsize),no_label_id=0)\n",
    "\n",
    "if surface_voxelsize is not None:\n",
    "    for layer in [1, 2, 3, 4]:\n",
    "        layer_img[layer] = isometric_resampling(layer_img[layer], method=surface_voxelsize, option='label')\n",
    "else:\n",
    "    surface_voxelsize = np.array(seg_img.voxelsize)"
   ]
  },
  {
   "cell_type": "code",
   "execution_count": null,
   "metadata": {},
   "outputs": [],
   "source": [
    "surface_meshes = {}\n",
    "for layer in [1, 2, 3, 4]:\n",
    "    binary_img = nd.binary_erosion(layer_img[layer], border_value=1).astype(np.uint8)\n",
    "    \n",
    "    image_data = vtk_image_data_from_image(binary_img, voxelsize=layer_img[layer].voxelsize)\n",
    "\n",
    "    contour = vtk.vtkImageMarchingCubes()\n",
    "    contour.SetInputData(image_data)\n",
    "    contour.ComputeNormalsOn()\n",
    "    contour.SetValue(0, 0.5)\n",
    "    contour.Update()\n",
    "\n",
    "    print(\"--> Marching cubes :\", contour.GetOutput().GetNumberOfPoints())\n",
    "\n",
    "    normal_generator = vtk.vtkPolyDataNormals()\n",
    "    normal_generator.SetInputData(contour.GetOutput())\n",
    "    # normal_generator.SetInputData(smoother.GetOutput())\n",
    "    normal_generator.ComputePointNormalsOn()\n",
    "    normal_generator.ComputeCellNormalsOff()\n",
    "    normal_generator.Update()\n",
    "\n",
    "    polydata = normal_generator.GetOutput()\n",
    "    surface_points = np.array([polydata.GetPoints().GetPoint(p) for p in range(polydata.GetPoints().GetNumberOfPoints())])\n",
    "    surface_triangles = np.array([[polydata.GetCell(t).GetPointIds().GetId(i) for i in range(3)] for t in range(polydata.GetNumberOfCells())])\n",
    "    surface_normals = np.array(polydata.GetPointData().GetArray('Normals'))\n",
    "\n",
    "    unique_points = np.unique(surface_points,axis=0)\n",
    "    print(\"--> Unique points :\", len(unique_points))\n",
    "\n",
    "    unique_point_matching = kd_tree_match(surface_points,unique_points,radius=1e-5)\n",
    "    unique_triangles = unique_point_matching[surface_triangles]\n",
    "\n",
    "    unique_normals = np.transpose([nd.sum(surface_normals[:,k],unique_point_matching,index=range(len(unique_points))) for k in range(3)])\n",
    "    unique_normals = unique_normals/np.linalg.norm(unique_normals,axis=1)[:,np.newaxis]\n",
    "\n",
    "    surface_topomesh = triangle_topomesh(unique_triangles,unique_points)\n",
    "    surface_topomesh.update_wisp_property('normal', 0, dict(enumerate(unique_normals)))\n",
    "\n",
    "    start_time = current_time()\n",
    "    print(\"--> Smoothing surface mesh\")\n",
    "    property_topomesh_vertices_deformation(surface_topomesh, iterations=10, omega_forces={'laplacian_smoothing': 0.33})\n",
    "    print(\"<-- Smoothing surface mesh [\", current_time() - start_time, \"s]\")\n",
    "    \n",
    "    surface_meshes[layer] = surface_topomesh"
   ]
  },
  {
   "cell_type": "code",
   "execution_count": null,
   "metadata": {
    "scrolled": false
   },
   "outputs": [],
   "source": [
    "for layer in [1, 2, 3, 4]:\n",
    "    surface_topomesh = surface_meshes[layer]\n",
    "    \n",
    "    surface_points = surface_topomesh.wisp_property('barycenter',0).values(list(surface_topomesh.wisps(0)))\n",
    "    surface_normals = surface_topomesh.wisp_property('normal',0).values(list(surface_topomesh.wisps(0)))\n",
    "    \n",
    "    normal_points = surface_points\n",
    "    \n",
    "    normal_coords = np.round(normal_points/seg_img.voxelsize)\n",
    "    normal_coords = np.maximum(np.minimum(normal_coords, np.array(seg_img.shape) - 1), 0)\n",
    "    normal_coords[np.isnan(normal_coords)] = 0\n",
    "    normal_coords = normal_coords.astype(int)\n",
    "    normal_coords = tuple(np.transpose(normal_coords))\n",
    "    \n",
    "    surface_labels = seg_img.get_array()[normal_coords]\n",
    "    surface_meristem = p_img.image_property('meristem').values(surface_labels)\n",
    "\n",
    "    surface_topomesh.update_wisp_property('meristem',0,dict(zip(surface_topomesh.wisps(0),surface_meristem)))\n",
    "    \n",
    "    #topomesh_binary_property_morphological_operation(surface_topomesh, 'meristem', 0, iterations=3, method='closing')\n",
    "    #topomesh_binary_property_morphological_operation(surface_topomesh, 'meristem', 0, iterations=3, method='erosion')\n",
    "    \n"
   ]
  },
  {
   "cell_type": "code",
   "execution_count": null,
   "metadata": {},
   "outputs": [],
   "source": [
    "layer_colormaps = dict(zip([1,2,3,4],['Blues','Reds','Greens','Greys']))\n",
    "\n",
    "actors = []\n",
    "\n",
    "for layer in [1,2,3,4]:\n",
    "    actor = VtkActorTopomesh(surface_meshes[layer],2,property_name='meristem',property_degree=0)\n",
    "    actor.update_polydata()\n",
    "    \n",
    "    actor.display_polydata = vtk_slice_polydata(actor.polydata,axis='x',\n",
    "                                                position=(layer+1)*seg_img.extent[0]/12.,\n",
    "                                                width=(layer+1)*seg_img.extent[0]/6.)\n",
    "    actor.update_actor(colormap=layer_colormaps[layer],value_range=(0,1))\n",
    "    actors += [actor]\n",
    "\n",
    "    \n",
    "figure_filename = dirname + '/' + filename + '/' + filename + '_layer_surfaces.png'\n",
    "vtk_save_screenshot_actors(actors, figure_filename, focal_point=(0,0,-microscope_orientation), view_up=(-microscope_orientation,0,0))\n",
    "\n",
    "vtk_display_notebook(actors)"
   ]
  },
  {
   "cell_type": "code",
   "execution_count": null,
   "metadata": {},
   "outputs": [],
   "source": [
    "layer_height_distribution = {}\n",
    "layer_height = {}\n",
    "layer_height_iqr = {}\n",
    "layer_distance_topomesh = {}\n",
    "for layer in [2,3,4]:\n",
    "    layer_topomesh = surface_meshes[layer]\n",
    "    prev_layer_topomesh = surface_meshes[layer-1]\n",
    "    \n",
    "    layer_topomesh.update_wisp_property('eroded_meristem',0,{v:layer_topomesh.wisp_property('meristem',0)[v] for v in layer_topomesh.wisps(0)})\n",
    "    #topomesh_binary_property_morphological_operation(layer_topomesh, 'eroded_meristem', 0, iterations=5, method='closing')\n",
    "    topomesh_binary_property_morphological_operation(layer_topomesh, 'eroded_meristem', 0, iterations=3, method='erosion')\n",
    "    layer_meristem_vertices = [v for v in layer_topomesh.wisps(0) if layer_topomesh.wisp_property('eroded_meristem',0)[v]]\n",
    "    \n",
    "    \n",
    "    prev_layer_meristem_vertices = [v for v in prev_layer_topomesh.wisps(0) if prev_layer_topomesh.wisp_property('meristem',0)[v]]\n",
    "    \n",
    "    layer_points = layer_topomesh.wisp_property('barycenter',0).values(layer_meristem_vertices)\n",
    "    prev_layer_points = prev_layer_topomesh.wisp_property('barycenter',0).values(prev_layer_meristem_vertices)\n",
    "    \n",
    "    layer_prev_layer_distances = np.linalg.norm(layer_points[:,np.newaxis] - prev_layer_points[np.newaxis],axis=2)\n",
    "    \n",
    "    layer_prev_layer_matching = linear_sum_assignment(layer_prev_layer_distances)\n",
    "    layer_prev_layer_matching = tuple([m[layer_prev_layer_distances[layer_prev_layer_matching]<surface_matching_distance_threshold] for m in layer_prev_layer_matching])\n",
    "    \n",
    "    layer_distance_topomesh[layer] = edge_topomesh([[i,i+len(layer_prev_layer_matching[0])] for i in range(len(layer_prev_layer_matching[0]))],\n",
    "                                                   list(layer_points[layer_prev_layer_matching[0]])+list(prev_layer_points[layer_prev_layer_matching[1]]))\n",
    "    layer_distance_topomesh[layer].update_wisp_property('length',1,layer_prev_layer_distances[layer_prev_layer_matching])\n",
    "\n",
    "    layer_height_distribution[layer-1] = layer_prev_layer_distances[layer_prev_layer_matching]\n",
    "    layer_height[layer-1] = np.nanmedian(layer_prev_layer_distances[layer_prev_layer_matching])\n",
    "    layer_height_iqr[layer-1] = np.nanpercentile(layer_prev_layer_distances[layer_prev_layer_matching],75) - np.nanpercentile(layer_prev_layer_distances[layer_prev_layer_matching],25)\n",
    "    "
   ]
  },
  {
   "cell_type": "code",
   "execution_count": null,
   "metadata": {},
   "outputs": [],
   "source": [
    "actors = []\n",
    "for layer in [1,2,3,4]:\n",
    "    actor = VtkActorTopomesh(surface_meshes[layer],2,property_name='meristem',property_degree=0)\n",
    "    actor.update_polydata()\n",
    "    # actor.polydata = vtk_slice_polydata(vtk_slice_polydata(actor.polydata,axis='x',position=seg_img.extent[0]/2.,width=30.),axis='y',position=seg_img.extent[1]/2.,width=30.)\n",
    "    actor.display_polydata = vtk_slice_polydata(actor.polydata,axis='y',position=3*seg_img.extent[1]/5.,width=15.)\n",
    "    actor.update_actor(colormap=layer_colormaps[layer],value_range=(0,1))\n",
    "    actor.GetProperty().SetRepresentationToWireframe()\n",
    "    actors += [actor]\n",
    "\n",
    "    if layer>1:\n",
    "        distance_actor = VtkActorTopomesh(layer_distance_topomesh[layer],1,property_name='length')\n",
    "        distance_actor.line_glyph='tube'\n",
    "        distance_actor.glyph_scale = 0.1\n",
    "        distance_actor.update_polydata()\n",
    "        # distance_actor.polydata = vtk_slice_polydata(vtk_slice_polydata(distance_actor.polydata,axis='x',position=seg_img.extent[0]/2.,width=30.),axis='y',position=seg_img.extent[1]/2.,width=30.)\n",
    "        distance_actor.polydata = vtk_slice_polydata(distance_actor.polydata,axis='y',position=3.*seg_img.extent[1]/5.,width=15.)\n",
    "        distance_actor.update_actor(colormap='Greys',value_range=(0,0),opacity=1)\n",
    "        actors += [distance_actor]\n",
    "\n",
    "        \n",
    "figure_filename = dirname + '/' + filename + '/' + filename + '_inter_layer_distances.png'\n",
    "#vtk_save_screenshot_actors([layer_actor], figure_filename, focal_point=(0,0,-microscope_orientation), view_up=(-microscope_orientation,0,0))\n",
    "vtk_save_screenshot_actors(actors, figure_filename, focal_point=(0,1,0), view_up=(0,0,microscope_orientation))\n",
    "\n",
    "vtk_display_notebook(actors)"
   ]
  },
  {
   "cell_type": "code",
   "execution_count": null,
   "metadata": {},
   "outputs": [],
   "source": [
    "distance_data = {col:[] for col in ['layer','height']}\n",
    "\n",
    "layer_colors = dict(zip([1,2,3,4],['b','r','g','k']))\n",
    "\n",
    "figure = plt.figure(2)\n",
    "figure.clf()\n",
    "for layer in [1,2,3]:\n",
    "    distance_data['height'] += [d for d in layer_height_distribution[layer]]\n",
    "    distance_data['layer'] += [layer for d in layer_height_distribution[layer]]\n",
    "    draw_box(figure,layer_height_distribution[layer],box_x=layer,box_width=0.33,color=layer_colors[layer],outlier_size=5)\n",
    "figure.gca().set_xlim(0,4)\n",
    "figure.gca().set_xticks([1,2,3])\n",
    "figure.gca().set_xticklabels(['L'+str(l) for l in [1,2,3]],size=24)\n",
    "figure.gca().set_ylim(0,surface_matching_distance_threshold)\n",
    "figure.gca().set_ylabel(\"Layer height ($\\mu$m)\",size=24)\n",
    "figure.set_size_inches(10,10)\n",
    "\n",
    "boxplot_filename = dirname + '/' + filename + '/' + filename + '_layer_height_boxplot.png'\n",
    "figure.savefig(boxplot_filename)\n",
    "\n",
    "distance_df = pd.DataFrame(distance_data)\n",
    "data_filename = dirname + '/' + filename + '/' + filename + '_layer_height_data.csv'\n",
    "distance_df.to_csv(data_filename,index=False)"
   ]
  },
  {
   "cell_type": "markdown",
   "metadata": {},
   "source": [
    "### Meristem cells property computation"
   ]
  },
  {
   "cell_type": "code",
   "execution_count": null,
   "metadata": {},
   "outputs": [],
   "source": [
    "p_img.compute_image_property('volume')\n",
    "\n",
    "l1_meristem_cells = [c for c in p_img.labels if p_img.image_property('meristem')[c] and p_img.image_property('layer')[c]==1]\n",
    "l1_meristem_cell_average_volume = np.nanmean([p_img.image_property('volume')[c] for c in l1_meristem_cells])"
   ]
  },
  {
   "cell_type": "code",
   "execution_count": null,
   "metadata": {},
   "outputs": [],
   "source": [
    "l1_labels = [c for c in p_img.labels if p_img.image_property('layer')[c] == 1]\n",
    "l1_cell_points = np.array([p_img.image_property('barycenter')[c] for c in l1_labels])\n",
    "surface_points = topomesh.wisp_property('barycenter',0).values(list(topomesh.wisps(0)))\n",
    "l1_surface_distances = np.linalg.norm(l1_cell_points[:,np.newaxis] - surface_points[np.newaxis],axis=2)\n",
    "l1_cell_surface_vertex = np.array(list(topomesh.wisps(0)))[np.argmin(l1_surface_distances,axis=1)]\n",
    "\n",
    "for property_name in curvature_properties:\n",
    "    l1_cell_curvature = dict(zip(l1_labels,topomesh.wisp_property(property_name,0).values(l1_cell_surface_vertex)))\n",
    "    p_img.update_image_property(property_name,{c:l1_cell_curvature[c] if c in l1_labels else np.nan for c in p_img.labels})"
   ]
  },
  {
   "cell_type": "code",
   "execution_count": null,
   "metadata": {
    "scrolled": false
   },
   "outputs": [],
   "source": [
    "actors = []\n",
    "\n",
    "cell_curvature = p_img.image_property('mean_curvature')\n",
    "curvature_polydatas = image_to_vtk_cell_polydatas(seg_img, \n",
    "                                                  labels=l1_labels, \n",
    "                                                  cell_polydatas=cell_polydatas, \n",
    "                                                  cell_property=cell_curvature)\n",
    "curvature_polydata = vtk_combine_polydatas([curvature_polydatas[l] for l in l1_labels])\n",
    "curvature_actor = vtk_actor(curvature_polydata,colormap='RdBu_r',value_range=(-0.1,0.1))\n",
    "actors += [curvature_actor]\n",
    "\n",
    "meristem_polydata = image_to_surface_cell_scalar_property_polydata(seg_img,cell_property=cell_meristem)\n",
    "\n",
    "contour = vtk.vtkContourFilter()\n",
    "contour.SetInputData(meristem_polydata)\n",
    "contour.SetValue(0,1)\n",
    "contour.SetGenerateTriangles(False)\n",
    "contour.Update()\n",
    "meristem_contour = vtk_tube_polydata(contour.GetOutput(),radius=0.5)\n",
    "\n",
    "meristem_actor = vtk_actor(meristem_contour,colormap=plain_colormap('red'))\n",
    "actors += [meristem_actor]\n",
    "\n",
    "figure_filename = dirname + '/' + filename + '/' + filename + '_meristem_cell_curvature.png'\n",
    "vtk_save_screenshot_actors(actors, figure_filename, focal_point=(0,0,-microscope_orientation), view_up=(-microscope_orientation,0,0))\n",
    "vtk_display_notebook(actors)"
   ]
  },
  {
   "cell_type": "markdown",
   "metadata": {},
   "source": [
    "### Cell signal quantification"
   ]
  },
  {
   "cell_type": "code",
   "execution_count": null,
   "metadata": {},
   "outputs": [],
   "source": [
    "if len(signal_channels) > 0:\n",
    "    eroded_seg_img = labels_post_processing(seg_img, method='erosion', radius=quantification_erosion_radius, iterations=1)\n",
    "\n",
    "    for i_s, signal_name in enumerate(signal_channels):\n",
    "        signal_img = img_dict[signal_name]\n",
    "\n",
    "        cell_total_signals = nd.sum(signal_img.get_array().astype(float),eroded_seg_img.get_array(),index=p_img.labels)\n",
    "        cell_volumes = nd.sum(np.ones_like(eroded_seg_img.get_array()),eroded_seg_img.get_array(),index=p_img.labels)\n",
    "        cell_signals = dict(zip(p_img.labels,cell_total_signals/cell_volumes))\n",
    "        p_img.update_image_property(signal_name,cell_signals)"
   ]
  },
  {
   "cell_type": "code",
   "execution_count": null,
   "metadata": {},
   "outputs": [],
   "source": [
    "if len(signal_channels) > 0:\n",
    "    \n",
    "    for i_s, signal_name in enumerate(signal_channels):\n",
    "        actors = []\n",
    "\n",
    "        signal_image_data = vtk_image_data_from_image(img_dict[signal_name].get_array(), \n",
    "                                                      voxelsize=img_dict[signal_name].voxelsize)\n",
    "        signal_volume = vtk_image_volume(signal_image_data,colormap='gray')\n",
    "        actors += [signal_volume]\n",
    "        \n",
    "        figure_filename = dirname + '/' + filename + '/' + filename + '_' + signal_name + '_signal_image.png'\n",
    "        vtk_save_screenshot_actors(actors, figure_filename, focal_point=(0,0,-microscope_orientation), view_up=(-microscope_orientation,0,0))\n",
    "\n",
    "        cell_signal = p_img.image_property(signal_name)\n",
    "        signal_polydatas = image_to_vtk_cell_polydatas(seg_img, \n",
    "                                                       labels=labels, \n",
    "                                                       cell_polydatas=cell_polydatas, \n",
    "                                                       cell_property=cell_signal)\n",
    "\n",
    "        signal_polydata = vtk_combine_polydatas([signal_polydatas[l] for l in labels])\n",
    "        signal_actor = vtk_actor(signal_polydata,colormap='gray')\n",
    "        actors += [signal_actor]\n",
    "\n",
    "        meristem_actor = vtk_actor(meristem_contour,colormap=plain_colormap('red'))\n",
    "        actors += [meristem_actor]\n",
    "\n",
    "        figure_filename = dirname + '/' + filename + '/' + filename + '_meristem_cell_' + signal_name + '_signal.png'\n",
    "        vtk_save_screenshot_actors(actors, figure_filename, focal_point=(0,0,-microscope_orientation), view_up=(-microscope_orientation,0,0))\n",
    "\n",
    "        vtk_display_notebook(actors)"
   ]
  },
  {
   "cell_type": "markdown",
   "metadata": {},
   "source": [
    "### Cell data export"
   ]
  },
  {
   "cell_type": "code",
   "execution_count": null,
   "metadata": {},
   "outputs": [],
   "source": [
    "cell_df = property_image_to_dataframe(p_img)\n",
    "\n",
    "cell_data_filename = dirname + '/' + filename + '/' + filename + '_cell_data.csv'\n",
    "cell_df.to_csv(cell_data_filename,index=False)"
   ]
  },
  {
   "cell_type": "markdown",
   "metadata": {},
   "source": [
    "### SAM data export"
   ]
  },
  {
   "cell_type": "code",
   "execution_count": null,
   "metadata": {},
   "outputs": [],
   "source": [
    "meristem_data = {}\n",
    "meristem_data['filename'] = [filename]\n",
    "meristem_data['area'] = [meristem_area]\n",
    "meristem_data['mean_curvature'] = [meristem_curvature]\n",
    "meristem_data['L1_cells'] = [len(l1_meristem_cells)]\n",
    "meristem_data['L1_cell_volume'] = [l1_meristem_cell_average_volume]\n",
    "for layer in [1,2,3]:\n",
    "    meristem_data['L'+str(layer)+'_height'] = [layer_height[layer]]\n",
    "    meristem_data['L'+str(layer)+'_height_interquartile'] = [layer_height_iqr[layer]]\n",
    "meristem_df = pd.DataFrame().from_dict(meristem_data)\n",
    "\n",
    "print(meristem_df)\n",
    "meristem_data_filename = dirname + '/' + filename + '/' + filename + '_meristem_data.csv'\n",
    "meristem_df.to_csv(meristem_data_filename,index=False)"
   ]
  },
  {
   "cell_type": "code",
   "execution_count": null,
   "metadata": {},
   "outputs": [],
   "source": []
  }
 ],
 "metadata": {
  "kernelspec": {
   "display_name": "Python 3",
   "language": "python",
   "name": "python3"
  },
  "language_info": {
   "codemirror_mode": {
    "name": "ipython",
    "version": 3
   },
   "file_extension": ".py",
   "mimetype": "text/x-python",
   "name": "python",
   "nbconvert_exporter": "python",
   "pygments_lexer": "ipython3",
   "version": "3.7.9"
  }
 },
 "nbformat": 4,
 "nbformat_minor": 4
}
