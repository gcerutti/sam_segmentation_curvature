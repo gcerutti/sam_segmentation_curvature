{
 "cells": [
  {
   "cell_type": "markdown",
   "metadata": {},
   "source": [
    "## Layer height estimation\n",
    "\n",
    "First, let's import the necessary functions"
   ]
  },
  {
   "cell_type": "code",
   "execution_count": null,
   "metadata": {},
   "outputs": [],
   "source": [
    "import os\n",
    "from time import time as current_time\n",
    "from copy import deepcopy\n",
    "\n",
    "import numpy as np\n",
    "import scipy.ndimage as nd\n",
    "import pandas as pd\n",
    "import matplotlib.pyplot as plt\n",
    "\n",
    "import panel\n",
    "import vtk\n",
    "\n",
    "from timagetk.components import SpatialImage, LabelledImage\n",
    "from timagetk.io import imread, imsave\n",
    "\n",
    "from cellcomplex.utils.array_dict import array_dict\n",
    "\n",
    "from cellcomplex.property_topomesh.creation import vertex_topomesh\n",
    "from cellcomplex.property_topomesh.analysis import compute_topomesh_property\n",
    "from cellcomplex.property_topomesh.morphology import topomesh_binary_property_morphological_operation, topomesh_binary_property_fill_holes\n",
    "from cellcomplex.property_topomesh.extraction import property_filtering_sub_topomesh, topomesh_connected_components, clean_topomesh\n",
    "\n",
    "from cellcomplex.property_topomesh.visualization.vtk_actor_topomesh import VtkActorTopomesh\n",
    "\n",
    "from tissue_nukem_3d.utils.matplotlib_tools import draw_box\n",
    "\n",
    "from tissue_analysis.tissue_analysis import TissueAnalysis, TissueImage\n",
    "\n",
    "from visu_core.matplotlib import glasbey\n",
    "from visu_core.matplotlib.colormap import plain_colormap\n",
    "\n",
    "from visu_core.vtk.display import vtk_display_notebook, vtk_save_screenshot_actors\n",
    "from visu_core.vtk.volume import vtk_image_volume\n",
    "from visu_core.vtk.actor import vtk_actor\n",
    "\n",
    "from visu_core.vtk.utils.image_tools import vtk_image_data_from_image, image_to_vtk_cell_polydatas, image_to_surface_intensity_polydata, image_to_surface_cell_scalar_property_polydata\n",
    "from visu_core.vtk.utils.polydata_tools import vtk_combine_polydatas, vtk_tube_polydata, vtk_slice_polydata\n"
   ]
  },
  {
   "cell_type": "markdown",
   "metadata": {},
   "source": [
    "### Import locally defined tools"
   ]
  },
  {
   "cell_type": "code",
   "execution_count": null,
   "metadata": {},
   "outputs": [],
   "source": [
    "from utils.tissue_analysis_tools import compute_tissue_cell_centers, compute_tissue_cell_volumes, compute_tissue_cell_surface_centers\n",
    "from utils.tissue_analysis_tools import compute_tissue_cell_neighbors_from_surfels, compute_tissue_cell_layer_surface_centers\n",
    "from utils.tissue_analysis_tools import compute_tissue_cell_layer_from_surface_mesh, compute_tissue_cell_heights\n",
    "from utils.tissue_analysis_tools import compute_tissue_cell_property_from_surface_mesh, compute_tissue_cell_property_from_layer_surface_meshes\n",
    "from utils.tissue_analysis_tools import compute_tissue_cell_binary_property_from_surface_mesh, tissue_cell_binary_property_connected_components\n",
    "from utils.tissue_analysis_tools import tissue_cell_binary_property_morphological_operation, tissue_cell_binary_property_layer_propagation\n",
    "from utils.tissue_analysis_tools import tissue_analysis_to_dataframe\n",
    "from utils.tissue_mesh_tools import segmentation_surface_topomesh, tissue_surface_topomesh, tissue_layer_surface_meshes"
   ]
  },
  {
   "cell_type": "markdown",
   "metadata": {},
   "source": [
    "### File path information"
   ]
  },
  {
   "cell_type": "code",
   "execution_count": null,
   "metadata": {},
   "outputs": [],
   "source": [
    "dirname = '/Users/gcerutti/Projects/RDP/LayerHeight_Marketa/test/'\n",
    "#dirname = '/home/carlos/Documents/WORK/Image analysis/20160625 MS-E3 CLV-DR5/LD/RAW'\n",
    "\n",
    "#filename = 'E15_SAM02'\n",
    "filename = 'E_set_blue_SAM02'\n",
    "#filename = 'Col-0-PI-SAM3'\n",
    "#filename = 'CLV3-CH-DR5-3VE-MS-E3-LD-SAM3'\n",
    "#filename = 'CLV3-CH-DR5-3VE-MS-E3-LD-SAM5'"
   ]
  },
  {
   "cell_type": "markdown",
   "metadata": {},
   "source": [
    "### Algorithm parameters"
   ]
  },
  {
   "cell_type": "code",
   "execution_count": null,
   "metadata": {},
   "outputs": [],
   "source": [
    "# image parameters\n",
    "channel_names = ['PI']\n",
    "#channel_names = ['Signal','PI']\n",
    "#channel_names = ['CLV3','DR5','PI']\n",
    "membrane_channel = 'PI'\n",
    "#signal_channels = ['CLV3','DR5']\n",
    "#signal_channels = ['Signal']\n",
    "signal_channels = []\n",
    "microscope_orientation = 1"
   ]
  },
  {
   "cell_type": "markdown",
   "metadata": {},
   "source": [
    "### Reading the segmented image"
   ]
  },
  {
   "cell_type": "code",
   "execution_count": null,
   "metadata": {},
   "outputs": [],
   "source": [
    "segmentation_filename = dirname + '/' + filename + '/' + filename + '_' + membrane_channel + '_seg.tif'\n",
    "\n",
    "seg_img = imread(segmentation_filename)\n",
    "seg_img = LabelledImage(seg_img, no_label_id=0)\n",
    "\n",
    "tissue = TissueAnalysis(TissueImage(seg_img, background=1),auto_init=False)"
   ]
  },
  {
   "cell_type": "code",
   "execution_count": null,
   "metadata": {},
   "outputs": [],
   "source": [
    "seg_image_data = vtk_image_data_from_image(seg_img.get_array()%256,voxelsize=seg_img.voxelsize)\n",
    "seg_img_volume = vtk_image_volume(seg_image_data,alpha_mode='label',background_label=1,\n",
    "                                  colormap='glasbey',value_range=(0,255),opacity=1)\n",
    "\n",
    "vtk_save_screenshot_actors([seg_img_volume],dirname + '/' + filename + '/' + filename + \"_segmentation.png\",focal_point=(0,0,-microscope_orientation),view_up=(0,microscope_orientation,0),size=(2000,2000))"
   ]
  },
  {
   "cell_type": "markdown",
   "metadata": {},
   "source": [
    "### Computing cell neighbors"
   ]
  },
  {
   "cell_type": "code",
   "execution_count": null,
   "metadata": {},
   "outputs": [],
   "source": [
    "compute_tissue_cell_neighbors_from_surfels(tissue)"
   ]
  },
  {
   "cell_type": "code",
   "execution_count": null,
   "metadata": {},
   "outputs": [],
   "source": [
    "actors = []\n",
    "\n",
    "seg_image_data = vtk_image_data_from_image(seg_img.get_array()%256,voxelsize=seg_img.voxelsize)\n",
    "no_seg_img_volume = vtk_image_volume(seg_image_data ,opacity=0.)\n",
    "actors += [no_seg_img_volume]\n",
    "\n",
    "labels = [l for l in seg_img.labels() if l!=1]\n",
    "\n",
    "cell_polydatas = image_to_vtk_cell_polydatas(seg_img,\n",
    "                                             labels=labels,\n",
    "                                             subsampling=[int(np.round(0.8/v)) for v in seg_img.voxelsize],\n",
    "                                             smoothing=10)\n",
    "cell_polydata = vtk_combine_polydatas([cell_polydatas[l] for l in labels])\n",
    "cell_actor = vtk_actor(cell_polydata,colormap='glasbey',value_range=(0,255))\n",
    "actors += [cell_actor]\n",
    "\n",
    "vtk_save_screenshot_actors(actors, dirname + '/' + filename + '/' + filename + \"_segmentation_cell_polydatas.png\",focal_point=(0,0,-microscope_orientation),view_up=(0,microscope_orientation,0),size=(2000,2000))\n",
    "vtk_display_notebook(actors)"
   ]
  },
  {
   "cell_type": "markdown",
   "metadata": {},
   "source": [
    "### Extracting meristem surface"
   ]
  },
  {
   "cell_type": "code",
   "execution_count": null,
   "metadata": {},
   "outputs": [],
   "source": [
    "surface_topomesh = segmentation_surface_topomesh(seg_img, microscope_orientation=microscope_orientation, compute_curvature=True)"
   ]
  },
  {
   "cell_type": "code",
   "execution_count": null,
   "metadata": {},
   "outputs": [],
   "source": [
    "actors = []\n",
    "\n",
    "actors += [no_seg_img_volume]\n",
    "\n",
    "surface_actor = VtkActorTopomesh(surface_topomesh,2)\n",
    "surface_actor.update(colormap=plain_colormap('w'))\n",
    "actors += [surface_actor]\n",
    "\n",
    "surface_edge_actor = VtkActorTopomesh(surface_topomesh, 1, line_glyph='tube', glyph_scale=0.2)\n",
    "surface_edge_actor.update(colormap=plain_colormap('k'), opacity=0.2)\n",
    "actors += [surface_edge_actor]\n",
    "\n",
    "vtk_save_screenshot_actors(actors, dirname + '/' + filename + '/' + filename + \"_segmentation_mesh.png\",focal_point=(0,0,-microscope_orientation),view_up=(0,microscope_orientation,0),size=(2000,2000))"
   ]
  },
  {
   "cell_type": "code",
   "execution_count": null,
   "metadata": {},
   "outputs": [],
   "source": [
    "actors = []\n",
    "\n",
    "seg_image_data = vtk_image_data_from_image(seg_img.get_array()%256,voxelsize=seg_img.voxelsize)\n",
    "no_seg_img_volume = vtk_image_volume(seg_image_data ,opacity=0.)\n",
    "actors += [no_seg_img_volume]\n",
    "\n",
    "surface_actor = VtkActorTopomesh(surface_topomesh,2,property_name='mean_curvature',property_degree=0)\n",
    "surface_actor.update(colormap='RdBu_r',value_range=(-5e-2,5e-2))\n",
    "actors += [surface_actor]\n",
    "\n",
    "normal_actor = VtkActorTopomesh(surface_topomesh,0,property_name='normal',glyph_scale=3.)\n",
    "normal_actor.update(colormap=plain_colormap('chartreuse'))\n",
    "actors += [normal_actor]\n",
    "\n",
    "surface_edge_actor = VtkActorTopomesh(surface_topomesh, 1, line_glyph='tube', glyph_scale=0.2)\n",
    "surface_edge_actor.update(colormap=plain_colormap('k'),opacity=0.2)\n",
    "actors += [surface_edge_actor]\n",
    "\n",
    "vtk_save_screenshot_actors(actors, dirname + '/' + filename + '/' + filename + \"_segmentation_mesh_curvature_normals.png\",focal_point=(0,0,-microscope_orientation),view_up=(0,microscope_orientation,0),size=(2000,2000))\n",
    "vtk_display_notebook(actors)"
   ]
  },
  {
   "cell_type": "markdown",
   "metadata": {},
   "source": [
    "### Mapping cells on SAM surface"
   ]
  },
  {
   "cell_type": "code",
   "execution_count": null,
   "metadata": {},
   "outputs": [],
   "source": [
    "cell_labels = np.array([l for l in tissue.get_label_ids()])\n",
    "\n",
    "compute_tissue_cell_centers(tissue)\n",
    "cell_center = array_dict(tissue.label.get_property('center'))\n",
    "\n",
    "compute_tissue_cell_volumes(tissue)\n",
    "cell_volumes = array_dict(tissue.label.get_property('volume'))\n",
    "\n",
    "compute_tissue_cell_surface_centers(tissue)\n",
    "cell_surface_center = array_dict(tissue.label.get_property('surface_center'))\n",
    "\n",
    "surface_cells = cell_surface_center.keys()\n"
   ]
  },
  {
   "cell_type": "code",
   "execution_count": null,
   "metadata": {},
   "outputs": [],
   "source": [
    "surface_topomesh = tissue_surface_topomesh(tissue, surface_topomesh)\n",
    "surface_vertex_cell = surface_topomesh.wisp_property('cell',0).values(list(surface_topomesh.wisps(0)))"
   ]
  },
  {
   "cell_type": "code",
   "execution_count": null,
   "metadata": {},
   "outputs": [],
   "source": [
    "actors = []\n",
    "\n",
    "seg_image_data = vtk_image_data_from_image(seg_img.get_array()%256,voxelsize=seg_img.voxelsize)\n",
    "no_seg_img_volume = vtk_image_volume(seg_image_data ,opacity=0.)\n",
    "actors += [no_seg_img_volume]\n",
    "\n",
    "surface_actor = VtkActorTopomesh(surface_topomesh,2,property_name='label',property_degree=0)\n",
    "surface_actor.update(colormap='glasbey',value_range=(0,255))\n",
    "actors += [surface_actor]\n",
    "\n",
    "vtk_save_screenshot_actors(actors, dirname + '/' + filename + '/' + filename + \"_segmentation_mesh_cell.png\",focal_point=(0,0,-microscope_orientation),view_up=(0,microscope_orientation,0),size=(2000,2000))\n",
    "vtk_display_notebook(actors)"
   ]
  },
  {
   "cell_type": "markdown",
   "metadata": {},
   "source": [
    "### Estimating cell layer using surface"
   ]
  },
  {
   "cell_type": "code",
   "execution_count": null,
   "metadata": {},
   "outputs": [],
   "source": [
    "compute_tissue_cell_layer_from_surface_mesh(tissue, surface_topomesh)\n",
    "cell_layer = array_dict(tissue.label.get_property('layer'))\n",
    "\n",
    "compute_tissue_cell_layer_surface_centers(tissue)"
   ]
  },
  {
   "cell_type": "code",
   "execution_count": null,
   "metadata": {},
   "outputs": [],
   "source": [
    "layer_cells = [c for c in cell_labels\n",
    "                if cell_center[c][1] > 0.48*seg_img.extent[1]]\n",
    "\n",
    "actors = []\n",
    "\n",
    "layer_polydatas = image_to_vtk_cell_polydatas(seg_img,\n",
    "                                              labels=layer_cells,\n",
    "                                              cell_property=tissue.label.get_property('layer'),\n",
    "                                              cell_polydatas=cell_polydatas)\n",
    "layer_polydata = vtk_combine_polydatas([layer_polydatas[l] for l in layer_cells])\n",
    "layer_actor = vtk_actor(layer_polydata,colormap='jet',value_range=(0,4))\n",
    "actors += [layer_actor]\n",
    "\n",
    "vtk_save_screenshot_actors(actors, dirname + '/' + filename + '/' + filename + \"_segmentation_cell_layer_polydatas.png\",focal_point=(0,1,0),view_up=(0,0,microscope_orientation),size=(2000,2000))\n",
    "vtk_display_notebook(actors)"
   ]
  },
  {
   "cell_type": "markdown",
   "metadata": {},
   "source": [
    "### Extracting inter-layer surfaces"
   ]
  },
  {
   "cell_type": "code",
   "execution_count": null,
   "metadata": {},
   "outputs": [],
   "source": [
    "layer_surface_meshes = tissue_layer_surface_meshes(tissue, surface_topomesh=surface_topomesh, microscope_orientation=microscope_orientation)"
   ]
  },
  {
   "cell_type": "code",
   "execution_count": null,
   "metadata": {},
   "outputs": [],
   "source": [
    "actors = []\n",
    "\n",
    "for layer in [1,2,3]:\n",
    "    layer_cells = [c for c in cell_labels if cell_layer[c]==layer]\n",
    "\n",
    "    actor = VtkActorTopomesh(layer_surface_meshes[layer],2,property_name='label',property_degree=0)\n",
    "    actor.update_polydata()\n",
    "    # actor.polydata = vtk_slice_polydata(vtk_slice_polydata(actor.polydata,axis='x',position=seg_img.extent[0]/2.,width=30.),axis='y',position=seg_img.extent[1]/2.,width=30.)\n",
    "    # actor.polydata = vtk_slice_polydata(actor.polydata,axis='x',position=seg_img.extent[0]/2.,width=10.)\n",
    "    actor.display_polydata = vtk_slice_polydata(actor.polydata,axis='x',\n",
    "                                                position=(layer+1)*seg_img.extent[0]/10.,\n",
    "                                                width=(layer+1)*seg_img.extent[0]/5.)\n",
    "    actor.update_actor(colormap='glasbey', value_range=(0, 255))\n",
    "    actors += [actor]\n",
    "\n",
    "    actors += [no_seg_img_volume]\n",
    "\n",
    "    #vtk_save_screenshot_actors(actors, dirname + '/' + filename + '/' + filename + \"_segmentation_L\"+str(layer)+\"_mesh_cell.png\", focal_point=(0,0,-microscope_orientation),view_up=(0,microscope_orientation,0),size=(2000,2000))\n",
    "\n",
    "vtk_save_screenshot_actors(actors, dirname + '/' + filename + '/' + filename + \"_segmentation_inter_layer_surfaces.png\", focal_point=(0,0,-microscope_orientation),view_up=(0,microscope_orientation,0),size=(2000,2000))\n",
    "#vtk_save_screenshot_actors(actors, dirname + '/' + filename + '/' + filename + \"_segmentation_inter_layer_surfaces.png\",focal_point=(1,0,0),view_up=(0,0,microscope_orienation),size=(2000,2000))\n",
    "vtk_display_notebook(actors)"
   ]
  },
  {
   "cell_type": "markdown",
   "metadata": {},
   "source": [
    "### Estimating cell normal vectors"
   ]
  },
  {
   "cell_type": "code",
   "execution_count": null,
   "metadata": {},
   "outputs": [],
   "source": [
    "compute_tissue_cell_property_from_layer_surface_meshes(tissue, 'normal', layer_surface_meshes)\n",
    "cell_layer_surface_center = tissue.label.get_property('layer_surface_center')\n",
    "cell_layer_surface_normals = tissue.label.get_property('normal')\n",
    "\n",
    "cell_vertex_topomesh = vertex_topomesh(cell_layer_surface_center)\n",
    "cell_vertex_topomesh.update_wisp_property('label',0,{c:c%256 for c in cell_vertex_topomesh.wisps(0)})\n",
    "cell_vertex_topomesh.update_wisp_property('layer',0,{c:cell_layer[c] for c in cell_vertex_topomesh.wisps(0)})\n",
    "cell_vertex_topomesh.update_wisp_property('normal',0,{c:cell_layer_surface_normals[c] for c in cell_vertex_topomesh.wisps(0)})"
   ]
  },
  {
   "cell_type": "code",
   "execution_count": null,
   "metadata": {},
   "outputs": [],
   "source": [
    "actors = []\n",
    "\n",
    "vertex_actor = VtkActorTopomesh(cell_vertex_topomesh,0,'layer',glyph_scale=1)\n",
    "vertex_actor.update(colormap='jet',value_range=(0,4))\n",
    "actors += [vertex_actor]\n",
    "\n",
    "# seg_image_data = vtk_image_data_from_image(seg_img.get_array()%256,voxelsize=seg_img.voxelsize)\n",
    "# seg_img_volume = vtk_image_volume(seg_image_data,alpha_mode='label',background_label=1,\n",
    "#                                   colormap='glasbey',value_range=(0,255),opacity=1)\n",
    "actors += [no_seg_img_volume]\n",
    "\n",
    "normal_actor = VtkActorTopomesh(cell_vertex_topomesh,0,property_name='normal',glyph_scale=5.)\n",
    "normal_actor.update(colormap=plain_colormap('chartreuse'))\n",
    "actors += [normal_actor]\n",
    "\n",
    "vtk_save_screenshot_actors(actors, dirname + '/' + filename + '/' + filename + \"_segmentation_cell_layer_vertex_normal.png\",focal_point=(0,0,-microscope_orientation),view_up=(0,microscope_orientation,0),size=(2000,2000))\n",
    "vtk_display_notebook(actors)"
   ]
  },
  {
   "cell_type": "markdown",
   "metadata": {},
   "source": [
    "### Computing cell heights"
   ]
  },
  {
   "cell_type": "code",
   "execution_count": null,
   "metadata": {},
   "outputs": [],
   "source": [
    "compute_tissue_cell_heights(tissue)\n",
    "all_cell_heights = tissue.label.get_property('height')"
   ]
  },
  {
   "cell_type": "code",
   "execution_count": null,
   "metadata": {},
   "outputs": [],
   "source": [
    "actors = []\n",
    "\n",
    "height_cells = [c for c in cell_labels\n",
    "                if cell_center[c][1] > 0.48*seg_img.extent[1]\n",
    "                and not  np.isnan(all_cell_heights[c])]\n",
    "\n",
    "height_polydatas = image_to_vtk_cell_polydatas(seg_img,\n",
    "                                              labels=height_cells,\n",
    "                                              cell_property=all_cell_heights,\n",
    "                                              cell_polydatas=cell_polydatas)\n",
    "height_polydata = vtk_combine_polydatas([height_polydatas[l] for l in height_cells])\n",
    "height_actor = vtk_actor(height_polydata,colormap='jet',value_range=(0,20))\n",
    "actors += [height_actor]\n",
    "\n",
    "\n",
    "vtk_save_screenshot_actors(actors, dirname + '/' + filename + '/' + filename + \"_segmentation_cell_height_polydatas.png\",focal_point=(0, 1, 0), view_up=(0, 0, microscope_orientation), size=(2000, 2000))\n",
    "vtk_display_notebook(actors)"
   ]
  },
  {
   "cell_type": "markdown",
   "metadata": {},
   "source": [
    "### Estimating L1 cell surface curvature"
   ]
  },
  {
   "cell_type": "code",
   "execution_count": null,
   "metadata": {},
   "outputs": [],
   "source": [
    "curvature_properties = ['mean_curvature', 'gaussian_curvature', 'principal_curvature_min', 'principal_curvature_max']\n",
    "\n",
    "for property_name in curvature_properties:\n",
    "    compute_tissue_cell_property_from_surface_mesh(tissue, property_name, surface_topomesh)\n",
    "    cell_vertex_topomesh.update_wisp_property(property_name,0,{c:tissue.label.get_property(property_name)[c]\n",
    "                                                          for c in cell_vertex_topomesh.wisps(0)})"
   ]
  },
  {
   "cell_type": "code",
   "execution_count": null,
   "metadata": {},
   "outputs": [],
   "source": [
    "actors = []\n",
    "\n",
    "l1_cells = [c for c in cell_labels if cell_layer[c] == 1]\n",
    "\n",
    "curvature_polydatas = image_to_vtk_cell_polydatas(seg_img,\n",
    "                                                  labels=l1_cells,\n",
    "                                                  cell_property=tissue.label.get_property('mean_curvature'),\n",
    "                                                  cell_polydatas=cell_polydatas)\n",
    "curvature_polydata = vtk_combine_polydatas([curvature_polydatas[l] for l in l1_cells])\n",
    "curvature_actor = vtk_actor(curvature_polydata,colormap='RdBu_r',value_range=(-5e-2,5e-2))\n",
    "actors += [curvature_actor]\n",
    "\n",
    "actors += [no_seg_img_volume]\n",
    "\n",
    "vtk_save_screenshot_actors(actors, dirname + '/' + filename + '/' + filename + \"_segmentation_cell_curvature_polydatas.png\",focal_point=(0,0,-microscope_orientation),view_up=(0,microscope_orientation,0),size=(2000,2000))\n",
    "vtk_display_notebook(actors)"
   ]
  },
  {
   "cell_type": "markdown",
   "metadata": {},
   "source": [
    "### Delineating the meristem zone"
   ]
  },
  {
   "cell_type": "code",
   "execution_count": null,
   "metadata": {},
   "outputs": [],
   "source": [
    "min_curvature_threshold = -5e-3\n",
    "\n",
    "surface_topomesh.update_wisp_property('meristem', 2, {f:surface_topomesh.wisp_property('principal_curvature_min', 2)[f] > min_curvature_threshold for f in surface_topomesh.wisps(2)})\n",
    "for iteration in range(3):\n",
    "    topomesh_binary_property_morphological_operation(surface_topomesh, 'meristem', 2, 'dilation', iterations=1, contour_value=0)\n",
    "    topomesh_binary_property_morphological_operation(surface_topomesh, 'meristem', 2, 'erosion', iterations=1, contour_value=1)\n",
    "topomesh_binary_property_fill_holes(surface_topomesh, 'meristem', 2)\n",
    "\n",
    "compute_topomesh_property(surface_topomesh,'faces',0)\n",
    "vertex_face_meristem = surface_topomesh.wisp_property('meristem',2).values(surface_topomesh.wisp_property('faces',0).values(list(surface_topomesh.wisps(0))))\n",
    "#vertex_meristem = list(map(np.all,vertex_face_meristem))\n",
    "vertex_meristem = list(map(lambda m:int(np.mean(m)>0.5),vertex_face_meristem))\n",
    "#vertex_meristem = list(map(np.any,vertex_face_meristem))\n",
    "\n",
    "surface_topomesh.update_wisp_property('meristem',0,dict(zip(surface_topomesh.wisps(0),vertex_meristem)))\n",
    "for iteration in range(3):\n",
    "    topomesh_binary_property_morphological_operation(surface_topomesh, 'meristem', 0, 'dilation', iterations=1, contour_value=0)\n",
    "    topomesh_binary_property_morphological_operation(surface_topomesh, 'meristem', 0, 'erosion', iterations=1, contour_value=1)"
   ]
  },
  {
   "cell_type": "code",
   "execution_count": null,
   "metadata": {},
   "outputs": [],
   "source": [
    "convex_topomesh = property_filtering_sub_topomesh(surface_topomesh,'meristem',0,(1,1))\n",
    "compute_topomesh_property(convex_topomesh, 'area', 2)\n",
    "\n",
    "meristem_components = topomesh_connected_components(convex_topomesh, degree=2)\n",
    "\n",
    "meristem_components_areas = np.array([mesh.wisp_property('area', 2).values(list(mesh.wisps(2))).sum() for mesh in meristem_components])\n",
    "meristem_components_center = np.array([mesh.wisp_property('barycenter', 0).values(list(mesh.wisps(0))).mean(axis=0) for mesh in meristem_components])\n",
    "meristem_components_scores = np.power(meristem_components_areas,1/2) / np.linalg.norm((meristem_components_center - np.array(seg_img.extent)/2.)[:,:2],axis=1)\n",
    "\n",
    "meristem_topomesh = meristem_components[np.argmax(meristem_components_scores)]\n",
    "\n",
    "surface_topomesh.update_wisp_property('meristem',0,{v:int(v in meristem_topomesh.wisps(0)) for v in surface_topomesh.wisps(0)})\n",
    "#topomesh_binary_property_morphological_operation(surface_topomesh, 'meristem', 0, 'dilation', iterations=1, contour_value=0)\n"
   ]
  },
  {
   "cell_type": "code",
   "execution_count": null,
   "metadata": {},
   "outputs": [],
   "source": [
    "actors = []\n",
    "\n",
    "surface_actor = VtkActorTopomesh(surface_topomesh,2,property_name='meristem',property_degree=0)\n",
    "surface_actor.update(colormap='glasbey',value_range=(-1,254))\n",
    "actors += [surface_actor]\n",
    "\n",
    "actors += [no_seg_img_volume]\n",
    "\n",
    "vtk_save_screenshot_actors(actors, dirname + '/' + filename + '/' + filename + \"_segmentation_meristem_mesh.png\", focal_point=(0,0,-microscope_orientation),view_up=(0,microscope_orientation,0),size=(2000,2000))\n"
   ]
  },
  {
   "cell_type": "code",
   "execution_count": null,
   "metadata": {},
   "outputs": [],
   "source": [
    "compute_tissue_cell_binary_property_from_surface_mesh(tissue, 'meristem', surface_topomesh, method='any')"
   ]
  },
  {
   "cell_type": "code",
   "execution_count": null,
   "metadata": {},
   "outputs": [],
   "source": [
    "actors = []\n",
    "\n",
    "meristem_polydatas = image_to_vtk_cell_polydatas(seg_img,\n",
    "                                                 labels=l1_cells,\n",
    "                                                 cell_property=tissue.label.get_property('meristem'),\n",
    "                                                 cell_polydatas=cell_polydatas)\n",
    "meristem_polydata = vtk_combine_polydatas([meristem_polydatas[l] for l in l1_cells])\n",
    "meristem_actor = vtk_actor(meristem_polydata,colormap='glasbey',value_range=(-1,254))\n",
    "actors += [meristem_actor]\n",
    "\n",
    "actors += [no_seg_img_volume]\n",
    "\n",
    "vtk_save_screenshot_actors(actors, dirname + '/' + filename + '/' + filename + \"_segmentation_cell_meristem_mesh_polydatas_before.png\",focal_point=(0,0,-microscope_orientation),view_up=(0,microscope_orientation,0),size=(2000,2000))\n"
   ]
  },
  {
   "cell_type": "code",
   "execution_count": null,
   "metadata": {},
   "outputs": [],
   "source": [
    "tissue_cell_binary_property_morphological_operation(tissue,'meristem',method='closing',iterations=3)\n",
    "tissue_cell_binary_property_morphological_operation(tissue,'meristem',method='opening',iterations=3)\n"
   ]
  },
  {
   "cell_type": "code",
   "execution_count": null,
   "metadata": {},
   "outputs": [],
   "source": [
    "actors = []\n",
    "\n",
    "meristem_polydatas = image_to_vtk_cell_polydatas(seg_img,\n",
    "                                                 labels=l1_cells,\n",
    "                                                 cell_property=tissue.label.get_property('meristem'),\n",
    "                                                 cell_polydatas=cell_polydatas)\n",
    "meristem_polydata = vtk_combine_polydatas([meristem_polydatas[l] for l in l1_cells])\n",
    "meristem_actor = vtk_actor(meristem_polydata,colormap='glasbey',value_range=(-1,254))\n",
    "actors += [meristem_actor]\n",
    "\n",
    "actors += [no_seg_img_volume]\n",
    "\n",
    "vtk_save_screenshot_actors(actors, dirname + '/' + filename + '/' + filename + \"_segmentation_cell_meristem_mesh_polydatas.png\",focal_point=(0,0,-microscope_orientation),view_up=(0,microscope_orientation,0),size=(2000,2000))\n",
    "\n",
    "vtk_display_notebook(actors)"
   ]
  },
  {
   "cell_type": "code",
   "execution_count": null,
   "metadata": {},
   "outputs": [],
   "source": [
    "tissue_cell_binary_property_layer_propagation(tissue, 'meristem')"
   ]
  },
  {
   "cell_type": "code",
   "execution_count": null,
   "metadata": {},
   "outputs": [],
   "source": [
    "actors = []\n",
    "\n",
    "meristem_cells = [c for c in cell_labels\n",
    "                  if cell_center[c][1] > 0.48*seg_img.extent[1]]\n",
    "\n",
    "meristem_polydatas = image_to_vtk_cell_polydatas(seg_img,\n",
    "                                                 labels=meristem_cells,\n",
    "                                                 cell_property=tissue.label.get_property('meristem'),\n",
    "                                                 cell_polydatas=cell_polydatas)\n",
    "meristem_polydata = vtk_combine_polydatas([meristem_polydatas[l] for l in meristem_cells])\n",
    "meristem_actor = vtk_actor(meristem_polydata, colormap='glasbey', value_range=(-1, 254))\n",
    "actors += [meristem_actor]\n",
    "\n",
    "vtk_save_screenshot_actors(actors, dirname + '/' + filename + '/' + filename + \"_segmentation_cell_meristem_polydatas_all_layers.png\", focal_point=(0, 1, 0), view_up=(0, 0, microscope_orientation), size=(2000, 2000))\n",
    "vtk_display_notebook(actors)"
   ]
  },
  {
   "cell_type": "markdown",
   "metadata": {},
   "source": [
    "### Meristematic cell height per layer"
   ]
  },
  {
   "cell_type": "code",
   "execution_count": null,
   "metadata": {},
   "outputs": [],
   "source": [
    "layer_colors = dict(zip([1,2,3,4],['deepskyblue','chartreuse','orange','darkred']))\n",
    "\n",
    "cell_meristem = tissue.label.get_property('meristem')\n",
    "\n",
    "layer_height = {}\n",
    "layer_height_iqr = {}\n",
    "\n",
    "figure = plt.figure(2)\n",
    "figure.clf()\n",
    "for layer in [1,2,3]:\n",
    "    layer_cells = np.array([l for l in cell_labels if cell_layer[l] == layer])\n",
    "    layer_meristem_cells = np.array([l for l in layer_cells if cell_meristem[l]==1])\n",
    "    layer_cell_heights = [all_cell_heights[l] for l in layer_meristem_cells]\n",
    "\n",
    "    layer_height[layer] = np.nanmedian(layer_cell_heights)\n",
    "    layer_height_iqr[layer] = np.nanpercentile(layer_cell_heights,75) - np.nanpercentile(layer_cell_heights,25)\n",
    "    \n",
    "    draw_box(figure,layer_cell_heights,box_x=layer,box_width=0.33,color=layer_colors[layer],outlier_size=5)\n",
    "figure.gca().set_xlim(0,4)\n",
    "figure.gca().set_xticks([1,2,3])\n",
    "figure.gca().set_xticklabels(['L'+str(l) for l in [1,2,3]],size=24)\n",
    "figure.gca().set_ylim(0,20)\n",
    "figure.gca().set_ylabel(\"Layer height ($\\mu$m)\",size=24)\n",
    "figure.set_size_inches(10,10)\n",
    "\n",
    "figure.tight_layout()\n",
    "boxplot_filename = dirname + '/' + filename + '/' + filename + \"_segmentation_meristem_layer_height_boxplot.png\"\n",
    "figure.savefig(boxplot_filename)"
   ]
  },
  {
   "cell_type": "markdown",
   "metadata": {},
   "source": [
    "### Cell data export"
   ]
  },
  {
   "cell_type": "code",
   "execution_count": null,
   "metadata": {},
   "outputs": [],
   "source": [
    "cell_df = tissue_analysis_to_dataframe(tissue, element='cell')\n",
    "data_filename = dirname + '/' + filename + '/' + filename + \"_segmentation_data.csv\"\n",
    "cell_df.to_csv(data_filename,index=False)"
   ]
  },
  {
   "cell_type": "markdown",
   "metadata": {},
   "source": [
    "### Meristem data export"
   ]
  },
  {
   "cell_type": "code",
   "execution_count": null,
   "metadata": {},
   "outputs": [],
   "source": [
    "meristem_l1_volume = np.nansum([cell_volumes[c] for c in l1_cells if cell_meristem[c]])\n",
    "meristem_area = meristem_l1_volume/layer_height[1]\n",
    "meristem_radius = np.sqrt(meristem_area/np.pi)\n",
    "\n",
    "cell_curvatures = tissue.label.get_property('mean_curvature')\n",
    "meristem_curvature = np.nansum([cell_volumes[c]*cell_curvatures[c] for c in l1_cells if cell_meristem[c]])/meristem_l1_volume"
   ]
  },
  {
   "cell_type": "code",
   "execution_count": null,
   "metadata": {},
   "outputs": [],
   "source": [
    "meristem_data = {}\n",
    "meristem_data['filename'] = [filename]\n",
    "meristem_data['area'] = [meristem_area]\n",
    "meristem_data['diameter'] = [2*meristem_radius]\n",
    "meristem_data['mean_curvature'] = [meristem_curvature]\n",
    "for layer in [1,2,3]:\n",
    "    meristem_data['L'+str(layer)+'_height'] = [layer_height[layer]]\n",
    "    meristem_data['L'+str(layer)+'_height_interquartile'] = [layer_height_iqr[layer]]\n",
    "\n",
    "meristem_df = pd.DataFrame().from_dict(meristem_data)\n",
    "\n",
    "meristem_data_filename = dirname + '/' + filename + '/' + filename + '_meristem_data.csv'\n",
    "meristem_df.to_csv(meristem_data_filename,index=False)\n",
    "meristem_df"
   ]
  },
  {
   "cell_type": "code",
   "execution_count": null,
   "metadata": {},
   "outputs": [],
   "source": []
  }
 ],
 "metadata": {
  "kernelspec": {
   "display_name": "Python 3",
   "language": "python",
   "name": "python3"
  },
  "language_info": {
   "codemirror_mode": {
    "name": "ipython",
    "version": 3
   },
   "file_extension": ".py",
   "mimetype": "text/x-python",
   "name": "python",
   "nbconvert_exporter": "python",
   "pygments_lexer": "ipython3",
   "version": "3.7.9"
  }
 },
 "nbformat": 4,
 "nbformat_minor": 4
}
